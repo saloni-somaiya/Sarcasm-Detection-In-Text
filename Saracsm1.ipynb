{
  "nbformat": 4,
  "nbformat_minor": 0,
  "metadata": {
    "colab": {
      "name": "Copy of Saracsm.ipynb",
      "version": "0.3.2",
      "provenance": [],
      "collapsed_sections": []
    },
    "language_info": {
      "codemirror_mode": {
        "name": "ipython",
        "version": 3
      },
      "file_extension": ".py",
      "mimetype": "text/x-python",
      "name": "python",
      "nbconvert_exporter": "python",
      "pygments_lexer": "ipython3",
      "version": "3.6.0"
    },
    "kernelspec": {
      "name": "python3",
      "display_name": "Python 3"
    },
    "accelerator": "GPU"
  },
  "cells": [
    {
      "cell_type": "markdown",
      "metadata": {
        "id": "if1JfVvZ5sgZ",
        "colab_type": "text"
      },
      "source": [
        "\n",
        "## RESEARCH PROJECT :  SARCASM DETECTION IN TEXT\n",
        "### BY JINAL SAPARIYA, SALONI SOMAIYA \n",
        "\n",
        "\n",
        "\n",
        "\n",
        "\n",
        "\n",
        "\n",
        "\n",
        "\n",
        "# Abstract \n",
        "\n",
        "### Sarcasm is a form of speech act in which speakers convey their message in form of sharply ironical taunt. The intended meaning differs from semantic understanding of the sentence, syntactic and semantic clues doesn’t always help. Automated detection of sarcasm is still in early stages. One reason for lack of computational models has been the difficulty to correctly identify and label sarcastic tweets. The main challenge for these problems is to understand and detect sarcasm as it is important to understand the facts related to an event. .\n",
        "### Past studies in Sarcasm Detection mostly make use of Twitter datasets collected using hashtag based on supervision but such datasets are noisy in terms of labels and language. Furthermore, many tweets are replies to other tweets and detecting sarcasm in these requires the availability of contextual tweets. However, accuracy and robustness of results are often affected by untruthful sentiments that are of sarcasm nature and this is often left untreated. Past research is mostly focused on either word features or contextual features. In addition, there hasn’t been any substantial work on identifying performance of neural nets as way to estimate sarcasm in text. Current social and political scenario demands a better model to identify influential sections in community with lowest form of wit in twitter sphere. To overcome the limitations related to noise in Twitter datasets, this News Headlines dataset for Sarcasm Detection is collected from two news websites. Since news headlines are written by professionals in a formal manner, there are no spelling mistakes and informal usage. Furthermore, since the sole purpose of TheOnion is to publish sarcastic news, we get high-quality labels with much less noise as compared to Twitter datasets. Unlike tweets which are replies to other tweets, the news headlines we obtained are self-contained. This would help us in teasing apart the real sarcastic elements. The main aim of the research conducted in this project is to detect and identify the best classification model to classify the sentences as sarcastic or not. The secondary aim of this project is to find our if Traditional Learning Classifiers outperform neural network classifiers and deep learning networks."
      ]
    },
    {
      "cell_type": "code",
      "metadata": {
        "id": "6YF5VInPjrqE",
        "colab_type": "code",
        "outputId": "54f825f3-af6b-4b73-ea15-b7454f3c3952",
        "colab": {
          "base_uri": "https://localhost:8080/",
          "height": 694
        }
      },
      "source": [
        "Image (url = 'https://www.peterhaas.org/wp-content/uploads/2015/08/image.jpg')"
      ],
      "execution_count": 0,
      "outputs": [
        {
          "output_type": "execute_result",
          "data": {
            "text/html": [
              "<img src=\"https://www.peterhaas.org/wp-content/uploads/2015/08/image.jpg\"/>"
            ],
            "text/plain": [
              "<IPython.core.display.Image object>"
            ]
          },
          "metadata": {
            "tags": []
          },
          "execution_count": 206
        }
      ]
    },
    {
      "cell_type": "code",
      "metadata": {
        "id": "kG-SVyvNlx9t",
        "colab_type": "code",
        "outputId": "149cc2ef-a307-48ce-f57c-46be46a76bdd",
        "colab": {
          "base_uri": "https://localhost:8080/",
          "height": 380
        }
      },
      "source": [
        "Image (url = 'https://media.springernature.com/lw785/springer-static/image/chp%3A10.1007%2F978-3-319-53420-6_3/MediaObjects/432514_1_En_3_Fig1_HTML.gif')"
      ],
      "execution_count": 0,
      "outputs": [
        {
          "output_type": "execute_result",
          "data": {
            "text/html": [
              "<img src=\"https://media.springernature.com/lw785/springer-static/image/chp%3A10.1007%2F978-3-319-53420-6_3/MediaObjects/432514_1_En_3_Fig1_HTML.gif\"/>"
            ],
            "text/plain": [
              "<IPython.core.display.Image object>"
            ]
          },
          "metadata": {
            "tags": []
          },
          "execution_count": 207
        }
      ]
    },
    {
      "cell_type": "markdown",
      "metadata": {
        "id": "TLztwi-C5aTW",
        "colab_type": "text"
      },
      "source": [
        "### The first step is to import all the packages necessary for the models."
      ]
    },
    {
      "cell_type": "code",
      "metadata": {
        "id": "HcqINrlPTIDR",
        "colab_type": "code",
        "outputId": "0bed840f-f19b-4e72-e52c-9e124ea50e1a",
        "colab": {
          "base_uri": "https://localhost:8080/",
          "height": 255
        }
      },
      "source": [
        "%matplotlib inline\n",
        "\n",
        "import matplotlib.pyplot as plt\n",
        "import numpy as np\n",
        "import pandas as pd\n",
        "from keras import models\n",
        "from keras import layers\n",
        "from keras import optimizers\n",
        "from sklearn.preprocessing import OneHotEncoder\n",
        "from sklearn.preprocessing import LabelEncoder\n",
        "import seaborn as sns\n",
        "import json\n",
        "from os import listdir\n",
        "from os.path import isfile, join\n",
        "from keras.preprocessing.text import Tokenizer\n",
        "from keras.preprocessing.sequence import pad_sequences\n",
        "from sklearn.model_selection import train_test_split\n",
        "from keras.layers import Conv1D, MaxPooling1D, Embedding,LSTM,Dropout\n",
        "import nltk\n",
        "from nltk.stem import WordNetLemmatizer\n",
        "nltk.download('wordnet')\n",
        "nltk.download('stopwords')\n",
        "from tensorflow.python.client import device_lib\n",
        "import tensorflow as tf\n",
        "import re\n",
        "nltk.download(\"averaged_perceptron_tagger\")\n",
        "from google.colab import drive\n",
        "drive.mount('/content/drive')"
      ],
      "execution_count": 0,
      "outputs": [
        {
          "output_type": "stream",
          "text": [
            "Using TensorFlow backend.\n"
          ],
          "name": "stderr"
        },
        {
          "output_type": "stream",
          "text": [
            "[nltk_data] Downloading package wordnet to /root/nltk_data...\n",
            "[nltk_data]   Unzipping corpora/wordnet.zip.\n",
            "[nltk_data] Downloading package stopwords to /root/nltk_data...\n",
            "[nltk_data]   Unzipping corpora/stopwords.zip.\n",
            "[nltk_data] Downloading package averaged_perceptron_tagger to\n",
            "[nltk_data]     /root/nltk_data...\n",
            "[nltk_data]   Unzipping taggers/averaged_perceptron_tagger.zip.\n",
            "Go to this URL in a browser: https://accounts.google.com/o/oauth2/auth?client_id=947318989803-6bn6qk8qdgf4n4g3pfee6491hc0brc4i.apps.googleusercontent.com&redirect_uri=urn%3Aietf%3Awg%3Aoauth%3A2.0%3Aoob&scope=email%20https%3A%2F%2Fwww.googleapis.com%2Fauth%2Fdocs.test%20https%3A%2F%2Fwww.googleapis.com%2Fauth%2Fdrive%20https%3A%2F%2Fwww.googleapis.com%2Fauth%2Fdrive.photos.readonly%20https%3A%2F%2Fwww.googleapis.com%2Fauth%2Fpeopleapi.readonly&response_type=code\n",
            "\n",
            "Enter your authorization code:\n",
            "··········\n",
            "Mounted at /content/drive\n"
          ],
          "name": "stdout"
        }
      ]
    },
    {
      "cell_type": "code",
      "metadata": {
        "id": "7JRhcA_jTHMR",
        "colab_type": "code",
        "outputId": "b5797bfb-ff10-4137-c743-d825ae65e2f0",
        "colab": {
          "base_uri": "https://localhost:8080/",
          "height": 487
        }
      },
      "source": [
        "import os\n",
        "os.listdir(\"/content/drive/My Drive\")"
      ],
      "execution_count": 0,
      "outputs": [
        {
          "output_type": "execute_result",
          "data": {
            "text/plain": [
              "['Sample Pictures',\n",
              " 'Project_WP',\n",
              " 'moms backups',\n",
              " 'DS Mini Project',\n",
              " 'UACU4051.jpeg',\n",
              " 'University documents + extra documents',\n",
              " 'Signatureverfipaper.rtf',\n",
              " 'Scholarships details .gsheet',\n",
              " 'Extra Documents',\n",
              " 'ResumeJinalSapariya.pdf',\n",
              " 'train.csv',\n",
              " 'folder.zip',\n",
              " 'photos',\n",
              " 'Saved Pictures',\n",
              " 'Colab Notebooks',\n",
              " 'Notebook',\n",
              " 'testnames.csv',\n",
              " 'resnoet50model.hdf5',\n",
              " 'Dog_breed_classification.ipynb',\n",
              " 'inceptionresnoetV2model.hdf5',\n",
              " 'submission1.csv',\n",
              " 'inceptionV2model.hdf5',\n",
              " 'Dog_breed_classification (1).ipynb',\n",
              " 'Sarcasm_Headlines_Dataset.json',\n",
              " 'heart.csv',\n",
              " 'Sarcasm_Headlines_Dataset (1).json',\n",
              " 'glove.6B',\n",
              " 'clean.csv']"
            ]
          },
          "metadata": {
            "tags": []
          },
          "execution_count": 2
        }
      ]
    },
    {
      "cell_type": "markdown",
      "metadata": {
        "id": "BT4_jUQ_9GTS",
        "colab_type": "text"
      },
      "source": [
        "### Next step is to import our dataset which is in JSON format and store it into a dataframe."
      ]
    },
    {
      "cell_type": "code",
      "metadata": {
        "id": "yd3Pv-97TFjD",
        "colab_type": "code",
        "colab": {}
      },
      "source": [
        "data = pd.read_json('/content/drive/My Drive/Sarcasm_Headlines_Dataset (1).json', lines=True, orient='columns', encoding='utf-8')"
      ],
      "execution_count": 0,
      "outputs": []
    },
    {
      "cell_type": "code",
      "metadata": {
        "id": "q18wlbV6TJ_C",
        "colab_type": "code",
        "outputId": "82d1f120-7246-4dbb-8567-26cc274c58cc",
        "colab": {
          "base_uri": "https://localhost:8080/",
          "height": 538
        }
      },
      "source": [
        "#testing whether the runtime is in GPU mode or not\n",
        "print(device_lib.list_local_devices())\n",
        "\n",
        "tf.test.gpu_device_name()\n",
        "\n",
        "sess = tf.Session(config=tf.ConfigProto(log_device_placement=True))"
      ],
      "execution_count": 0,
      "outputs": [
        {
          "output_type": "stream",
          "text": [
            "[name: \"/device:CPU:0\"\n",
            "device_type: \"CPU\"\n",
            "memory_limit: 268435456\n",
            "locality {\n",
            "}\n",
            "incarnation: 9982608396349235539\n",
            ", name: \"/device:XLA_CPU:0\"\n",
            "device_type: \"XLA_CPU\"\n",
            "memory_limit: 17179869184\n",
            "locality {\n",
            "}\n",
            "incarnation: 1033399924588223280\n",
            "physical_device_desc: \"device: XLA_CPU device\"\n",
            ", name: \"/device:XLA_GPU:0\"\n",
            "device_type: \"XLA_GPU\"\n",
            "memory_limit: 17179869184\n",
            "locality {\n",
            "}\n",
            "incarnation: 8437466851476243964\n",
            "physical_device_desc: \"device: XLA_GPU device\"\n",
            ", name: \"/device:GPU:0\"\n",
            "device_type: \"GPU\"\n",
            "memory_limit: 14800692839\n",
            "locality {\n",
            "  bus_id: 1\n",
            "  links {\n",
            "  }\n",
            "}\n",
            "incarnation: 4864387662964668139\n",
            "physical_device_desc: \"device: 0, name: Tesla T4, pci bus id: 0000:00:04.0, compute capability: 7.5\"\n",
            "]\n"
          ],
          "name": "stdout"
        }
      ]
    },
    {
      "cell_type": "markdown",
      "metadata": {
        "id": "oHhcN0Oi9ZnK",
        "colab_type": "text"
      },
      "source": [
        "## Data Exploration and Data Cleaning"
      ]
    },
    {
      "cell_type": "markdown",
      "metadata": {
        "id": "MH3ZHktB9e_J",
        "colab_type": "text"
      },
      "source": [
        "### Here we observe our data by checking the datatypes of the features"
      ]
    },
    {
      "cell_type": "code",
      "metadata": {
        "id": "Atxox1oZl20M",
        "colab_type": "code",
        "outputId": "8ba0a994-327a-4048-c27f-7a54995a06d1",
        "colab": {
          "base_uri": "https://localhost:8080/",
          "height": 151
        }
      },
      "source": [
        "data.info(verbose = True, null_counts = False) "
      ],
      "execution_count": 0,
      "outputs": [
        {
          "output_type": "stream",
          "text": [
            "<class 'pandas.core.frame.DataFrame'>\n",
            "RangeIndex: 26709 entries, 0 to 26708\n",
            "Data columns (total 3 columns):\n",
            "article_link    object\n",
            "headline        object\n",
            "is_sarcastic    int64\n",
            "dtypes: int64(1), object(2)\n",
            "memory usage: 626.1+ KB\n"
          ],
          "name": "stdout"
        }
      ]
    },
    {
      "cell_type": "markdown",
      "metadata": {
        "id": "DVwDPEYk9sfy",
        "colab_type": "text"
      },
      "source": [
        "### **Check for the distribution of the dataset for the reponse variable in order to get the balance of the dataset**"
      ]
    },
    {
      "cell_type": "code",
      "metadata": {
        "id": "nPhAscr0TFjq",
        "colab_type": "code",
        "outputId": "17e79776-aacb-4848-bc93-ef83e45dec27",
        "colab": {
          "base_uri": "https://localhost:8080/",
          "height": 284
        }
      },
      "source": [
        "ax = sns.countplot(data['is_sarcastic'],  palette=\"Set2\")"
      ],
      "execution_count": 0,
      "outputs": [
        {
          "output_type": "display_data",
          "data": {
            "image/png": "[encoded data removed]",
            "text/plain": [
              "<Figure size 432x288 with 1 Axes>"
            ]
          },
          "metadata": {
            "tags": []
          }
        }
      ]
    },
    {
      "cell_type": "markdown",
      "metadata": {
        "id": "1-Udf-IS99qs",
        "colab_type": "text"
      },
      "source": [
        "### **Calculating the percentage of the sarcastic and non-sarcastic to get the overview of the labels**"
      ]
    },
    {
      "cell_type": "code",
      "metadata": {
        "id": "zs8Z3es9msGv",
        "colab_type": "code",
        "outputId": "6f88137e-53c8-4c88-e410-3b330ca0f161",
        "colab": {
          "base_uri": "https://localhost:8080/",
          "height": 582
        }
      },
      "source": [
        "labels = ['Sarcastic', 'Not Sarcastic']\n",
        "\n",
        "zeros_percent = (data['is_sarcastic'].value_counts()[0]/ data['is_sarcastic'].value_counts().sum())*100\n",
        "ones_percent = (data['is_sarcastic'].value_counts()[1]/ data['is_sarcastic'].value_counts().sum())*100\n",
        "\n",
        "sizes = [zeros_percent,ones_percent]\n",
        "explode = (0, 0.1)\n",
        "plt.figure(figsize=(10,10))\n",
        "plt.pie(sizes, labels=labels, explode = explode, \n",
        "        autopct='%1.1f%%', shadow=True, startangle= 90, pctdistance=0.6)\n",
        "plt.axis('equal')\n",
        "plt.show()\n"
      ],
      "execution_count": 0,
      "outputs": [
        {
          "output_type": "display_data",
          "data": {
            "image/png": "[encoded data removed]",
            "text/plain": [
              "<Figure size 720x720 with 1 Axes>"
            ]
          },
          "metadata": {
            "tags": []
          }
        }
      ]
    },
    {
      "cell_type": "markdown",
      "metadata": {
        "id": "hdMdsmd3-dIP",
        "colab_type": "text"
      },
      "source": [
        "### **Check for null values into the dataset **"
      ]
    },
    {
      "cell_type": "code",
      "metadata": {
        "id": "00N_CXrQfdlL",
        "colab_type": "code",
        "outputId": "53c28f1a-fa6f-4a5e-d600-6aea7e0f6865",
        "colab": {
          "base_uri": "https://localhost:8080/",
          "height": 84
        }
      },
      "source": [
        "print(data.isnull().sum())"
      ],
      "execution_count": 0,
      "outputs": [
        {
          "output_type": "stream",
          "text": [
            "article_link    0\n",
            "headline        0\n",
            "is_sarcastic    0\n",
            "dtype: int64\n"
          ],
          "name": "stdout"
        }
      ]
    },
    {
      "cell_type": "markdown",
      "metadata": {
        "id": "hDtE6A5j-kCd",
        "colab_type": "text"
      },
      "source": [
        "### Dropping unneccesaary column not helpful for classification."
      ]
    },
    {
      "cell_type": "code",
      "metadata": {
        "id": "-yJU4Eo6TFjR",
        "colab_type": "code",
        "outputId": "2e5dd85c-7eec-4aea-b24f-2f790f87a2df",
        "colab": {
          "base_uri": "https://localhost:8080/",
          "height": 195
        }
      },
      "source": [
        "data = data.drop(['article_link'], axis=1)\n",
        "data.head()"
      ],
      "execution_count": 0,
      "outputs": [
        {
          "output_type": "execute_result",
          "data": {
            "text/html": [
              "<div>\n",
              "<style scoped>\n",
              "    .dataframe tbody tr th:only-of-type {\n",
              "        vertical-align: middle;\n",
              "    }\n",
              "\n",
              "    .dataframe tbody tr th {\n",
              "        vertical-align: top;\n",
              "    }\n",
              "\n",
              "    .dataframe thead th {\n",
              "        text-align: right;\n",
              "    }\n",
              "</style>\n",
              "<table border=\"1\" class=\"dataframe\">\n",
              "  <thead>\n",
              "    <tr style=\"text-align: right;\">\n",
              "      <th></th>\n",
              "      <th>headline</th>\n",
              "      <th>is_sarcastic</th>\n",
              "    </tr>\n",
              "  </thead>\n",
              "  <tbody>\n",
              "    <tr>\n",
              "      <th>0</th>\n",
              "      <td>former versace store clerk sues over secret 'b...</td>\n",
              "      <td>0</td>\n",
              "    </tr>\n",
              "    <tr>\n",
              "      <th>1</th>\n",
              "      <td>the 'roseanne' revival catches up to our thorn...</td>\n",
              "      <td>0</td>\n",
              "    </tr>\n",
              "    <tr>\n",
              "      <th>2</th>\n",
              "      <td>mom starting to fear son's web series closest ...</td>\n",
              "      <td>1</td>\n",
              "    </tr>\n",
              "    <tr>\n",
              "      <th>3</th>\n",
              "      <td>boehner just wants wife to listen, not come up...</td>\n",
              "      <td>1</td>\n",
              "    </tr>\n",
              "    <tr>\n",
              "      <th>4</th>\n",
              "      <td>j.k. rowling wishes snape happy birthday in th...</td>\n",
              "      <td>0</td>\n",
              "    </tr>\n",
              "  </tbody>\n",
              "</table>\n",
              "</div>"
            ],
            "text/plain": [
              "                                            headline  is_sarcastic\n",
              "0  former versace store clerk sues over secret 'b...             0\n",
              "1  the 'roseanne' revival catches up to our thorn...             0\n",
              "2  mom starting to fear son's web series closest ...             1\n",
              "3  boehner just wants wife to listen, not come up...             1\n",
              "4  j.k. rowling wishes snape happy birthday in th...             0"
            ]
          },
          "metadata": {
            "tags": []
          },
          "execution_count": 9
        }
      ]
    },
    {
      "cell_type": "markdown",
      "metadata": {
        "id": "cfN1mbX-AQ5w",
        "colab_type": "text"
      },
      "source": [
        "### **Calculate the length of sentences **"
      ]
    },
    {
      "cell_type": "code",
      "metadata": {
        "id": "yC3kvtHNTFja",
        "colab_type": "code",
        "outputId": "534e9c30-8b6e-48b1-9797-0b9a095e9682",
        "colab": {
          "base_uri": "https://localhost:8080/",
          "height": 195
        }
      },
      "source": [
        "data['len'] = data['headline'].apply(lambda x: len(x.split(\" \")))\n",
        "data.head()"
      ],
      "execution_count": 0,
      "outputs": [
        {
          "output_type": "execute_result",
          "data": {
            "text/html": [
              "<div>\n",
              "<style scoped>\n",
              "    .dataframe tbody tr th:only-of-type {\n",
              "        vertical-align: middle;\n",
              "    }\n",
              "\n",
              "    .dataframe tbody tr th {\n",
              "        vertical-align: top;\n",
              "    }\n",
              "\n",
              "    .dataframe thead th {\n",
              "        text-align: right;\n",
              "    }\n",
              "</style>\n",
              "<table border=\"1\" class=\"dataframe\">\n",
              "  <thead>\n",
              "    <tr style=\"text-align: right;\">\n",
              "      <th></th>\n",
              "      <th>headline</th>\n",
              "      <th>is_sarcastic</th>\n",
              "      <th>len</th>\n",
              "    </tr>\n",
              "  </thead>\n",
              "  <tbody>\n",
              "    <tr>\n",
              "      <th>0</th>\n",
              "      <td>former versace store clerk sues over secret 'b...</td>\n",
              "      <td>0</td>\n",
              "      <td>12</td>\n",
              "    </tr>\n",
              "    <tr>\n",
              "      <th>1</th>\n",
              "      <td>the 'roseanne' revival catches up to our thorn...</td>\n",
              "      <td>0</td>\n",
              "      <td>14</td>\n",
              "    </tr>\n",
              "    <tr>\n",
              "      <th>2</th>\n",
              "      <td>mom starting to fear son's web series closest ...</td>\n",
              "      <td>1</td>\n",
              "      <td>14</td>\n",
              "    </tr>\n",
              "    <tr>\n",
              "      <th>3</th>\n",
              "      <td>boehner just wants wife to listen, not come up...</td>\n",
              "      <td>1</td>\n",
              "      <td>13</td>\n",
              "    </tr>\n",
              "    <tr>\n",
              "      <th>4</th>\n",
              "      <td>j.k. rowling wishes snape happy birthday in th...</td>\n",
              "      <td>0</td>\n",
              "      <td>11</td>\n",
              "    </tr>\n",
              "  </tbody>\n",
              "</table>\n",
              "</div>"
            ],
            "text/plain": [
              "                                            headline  is_sarcastic  len\n",
              "0  former versace store clerk sues over secret 'b...             0   12\n",
              "1  the 'roseanne' revival catches up to our thorn...             0   14\n",
              "2  mom starting to fear son's web series closest ...             1   14\n",
              "3  boehner just wants wife to listen, not come up...             1   13\n",
              "4  j.k. rowling wishes snape happy birthday in th...             0   11"
            ]
          },
          "metadata": {
            "tags": []
          },
          "execution_count": 10
        }
      ]
    },
    {
      "cell_type": "markdown",
      "metadata": {
        "id": "pf1xHCbqAemF",
        "colab_type": "text"
      },
      "source": [
        "### Displaying the sentence having the maximum length of words."
      ]
    },
    {
      "cell_type": "code",
      "metadata": {
        "id": "3AXfrBpjlQc1",
        "colab_type": "code",
        "outputId": "a959e5b0-b283-40da-8f9d-a70fb036ec82",
        "colab": {
          "base_uri": "https://localhost:8080/",
          "height": 34
        }
      },
      "source": [
        "data['len'].max()"
      ],
      "execution_count": 0,
      "outputs": [
        {
          "output_type": "execute_result",
          "data": {
            "text/plain": [
              "39"
            ]
          },
          "metadata": {
            "tags": []
          },
          "execution_count": 11
        }
      ]
    },
    {
      "cell_type": "code",
      "metadata": {
        "id": "EASXtVjDl_QF",
        "colab_type": "code",
        "outputId": "4e0db12f-fc07-45bf-a1e9-7bbdc401a126",
        "colab": {
          "base_uri": "https://localhost:8080/",
          "height": 94
        }
      },
      "source": [
        "pd.options.display.max_colwidth = 300\n",
        "data[data['len']==39]"
      ],
      "execution_count": 0,
      "outputs": [
        {
          "output_type": "execute_result",
          "data": {
            "text/html": [
              "<div>\n",
              "<style scoped>\n",
              "    .dataframe tbody tr th:only-of-type {\n",
              "        vertical-align: middle;\n",
              "    }\n",
              "\n",
              "    .dataframe tbody tr th {\n",
              "        vertical-align: top;\n",
              "    }\n",
              "\n",
              "    .dataframe thead th {\n",
              "        text-align: right;\n",
              "    }\n",
              "</style>\n",
              "<table border=\"1\" class=\"dataframe\">\n",
              "  <thead>\n",
              "    <tr style=\"text-align: right;\">\n",
              "      <th></th>\n",
              "      <th>headline</th>\n",
              "      <th>is_sarcastic</th>\n",
              "      <th>len</th>\n",
              "    </tr>\n",
              "  </thead>\n",
              "  <tbody>\n",
              "    <tr>\n",
              "      <th>15247</th>\n",
              "      <td>elmore leonard, modern prose master, noted for his terse prose style and for writing about things perfectly and succinctly with a remarkable economy of words, unfortunately and sadly expired this gloomy tuesday at the age of 87 years old</td>\n",
              "      <td>1</td>\n",
              "      <td>39</td>\n",
              "    </tr>\n",
              "  </tbody>\n",
              "</table>\n",
              "</div>"
            ],
            "text/plain": [
              "                                                                                                                                                                                                                                            headline  \\\n",
              "15247  elmore leonard, modern prose master, noted for his terse prose style and for writing about things perfectly and succinctly with a remarkable economy of words, unfortunately and sadly expired this gloomy tuesday at the age of 87 years old   \n",
              "\n",
              "       is_sarcastic  len  \n",
              "15247             1   39  "
            ]
          },
          "metadata": {
            "tags": []
          },
          "execution_count": 12
        }
      ]
    },
    {
      "cell_type": "markdown",
      "metadata": {
        "id": "pJkHfNh6AtAe",
        "colab_type": "text"
      },
      "source": [
        "### Visualising the sentences within the length of 20 "
      ]
    },
    {
      "cell_type": "code",
      "metadata": {
        "id": "XDlGlDLmlVNe",
        "colab_type": "code",
        "outputId": "f1138aec-df6a-4952-d389-7304af43d3bc",
        "colab": {
          "base_uri": "https://localhost:8080/",
          "height": 353
        }
      },
      "source": [
        "for i,headline in enumerate (data['headline'], 1):\n",
        "    if i > 20:\n",
        "        break\n",
        "    else:\n",
        "        print(i, headline)"
      ],
      "execution_count": 0,
      "outputs": [
        {
          "output_type": "stream",
          "text": [
            "1 former versace store clerk sues over secret 'black code' for minority shoppers\n",
            "2 the 'roseanne' revival catches up to our thorny political mood, for better and worse\n",
            "3 mom starting to fear son's web series closest thing she will have to grandchild\n",
            "4 boehner just wants wife to listen, not come up with alternative debt-reduction ideas\n",
            "5 j.k. rowling wishes snape happy birthday in the most magical way\n",
            "6 advancing the world's women\n",
            "7 the fascinating case for eating lab-grown meat\n",
            "8 this ceo will send your kids to school, if you work for his company\n",
            "9 top snake handler leaves sinking huckabee campaign\n",
            "10 friday's morning email: inside trump's presser for the ages\n",
            "11 airline passengers tackle man who rushes cockpit in bomb threat\n",
            "12 facebook reportedly working on healthcare features and apps\n",
            "13 north korea praises trump and urges us voters to reject 'dull hillary'\n",
            "14 actually, cnn's jeffrey lord has been 'indefensible' for a while\n",
            "15 barcelona holds huge protest in support of refugees\n",
            "16 nuclear bomb detonates during rehearsal for 'spider-man' musical\n",
            "17 cosby lawyer asks why accusers didn't come forward to be smeared by legal team years ago\n",
            "18 stock analysts confused, frightened by boar market\n",
            "19 bloomberg's program to build better cities just got bigger\n",
            "20 craig hicks indicted\n"
          ],
          "name": "stdout"
        }
      ]
    },
    {
      "cell_type": "markdown",
      "metadata": {
        "id": "BEgP34mLA85G",
        "colab_type": "text"
      },
      "source": [
        "### Calculating the frequency of word length and plotting the histogram of it."
      ]
    },
    {
      "cell_type": "code",
      "metadata": {
        "id": "1ko4NPK0uxWD",
        "colab_type": "code",
        "outputId": "024d1c00-0ade-43f3-bb50-5479166ec7d0",
        "colab": {
          "base_uri": "https://localhost:8080/",
          "height": 195
        }
      },
      "source": [
        "data_length = data['len'].value_counts().reset_index()\n",
        "data_length.rename(columns={'index': 'length_word', 'len':'frequency'}, inplace = True)\n",
        "data_length.head()"
      ],
      "execution_count": 0,
      "outputs": [
        {
          "output_type": "execute_result",
          "data": {
            "text/html": [
              "<div>\n",
              "<style scoped>\n",
              "    .dataframe tbody tr th:only-of-type {\n",
              "        vertical-align: middle;\n",
              "    }\n",
              "\n",
              "    .dataframe tbody tr th {\n",
              "        vertical-align: top;\n",
              "    }\n",
              "\n",
              "    .dataframe thead th {\n",
              "        text-align: right;\n",
              "    }\n",
              "</style>\n",
              "<table border=\"1\" class=\"dataframe\">\n",
              "  <thead>\n",
              "    <tr style=\"text-align: right;\">\n",
              "      <th></th>\n",
              "      <th>length_word</th>\n",
              "      <th>frequency</th>\n",
              "    </tr>\n",
              "  </thead>\n",
              "  <tbody>\n",
              "    <tr>\n",
              "      <th>0</th>\n",
              "      <td>10</td>\n",
              "      <td>3484</td>\n",
              "    </tr>\n",
              "    <tr>\n",
              "      <th>1</th>\n",
              "      <td>9</td>\n",
              "      <td>3300</td>\n",
              "    </tr>\n",
              "    <tr>\n",
              "      <th>2</th>\n",
              "      <td>11</td>\n",
              "      <td>3196</td>\n",
              "    </tr>\n",
              "    <tr>\n",
              "      <th>3</th>\n",
              "      <td>8</td>\n",
              "      <td>2857</td>\n",
              "    </tr>\n",
              "    <tr>\n",
              "      <th>4</th>\n",
              "      <td>12</td>\n",
              "      <td>2646</td>\n",
              "    </tr>\n",
              "  </tbody>\n",
              "</table>\n",
              "</div>"
            ],
            "text/plain": [
              "   length_word  frequency\n",
              "0           10       3484\n",
              "1            9       3300\n",
              "2           11       3196\n",
              "3            8       2857\n",
              "4           12       2646"
            ]
          },
          "metadata": {
            "tags": []
          },
          "execution_count": 14
        }
      ]
    },
    {
      "cell_type": "code",
      "metadata": {
        "id": "0hBHVTLtvfNl",
        "colab_type": "code",
        "outputId": "e10d2d59-7cd6-4b17-ee60-6bd39b9ed21e",
        "colab": {
          "base_uri": "https://localhost:8080/",
          "height": 286
        }
      },
      "source": [
        "import matplotlib.pyplot as plt\n",
        "plt.bar(data_length['length_word'], data_length['frequency'])"
      ],
      "execution_count": 0,
      "outputs": [
        {
          "output_type": "execute_result",
          "data": {
            "text/plain": [
              "<BarContainer object of 32 artists>"
            ]
          },
          "metadata": {
            "tags": []
          },
          "execution_count": 15
        },
        {
          "output_type": "display_data",
          "data": {
            "image/png": "[encoded data removed]",
            "text/plain": [
              "<Figure size 432x288 with 1 Axes>"
            ]
          },
          "metadata": {
            "tags": []
          }
        }
      ]
    },
    {
      "cell_type": "markdown",
      "metadata": {
        "id": "deSQHpwoK_w-",
        "colab_type": "text"
      },
      "source": [
        "We observe a normal distribution here and the sentences having length count more than 20 is very less, so we can prune them easily as they will not be needed."
      ]
    },
    {
      "cell_type": "markdown",
      "metadata": {
        "id": "CPJ-tNf_DX4m",
        "colab_type": "text"
      },
      "source": [
        "# Data Pre-Processing "
      ]
    },
    {
      "cell_type": "markdown",
      "metadata": {
        "id": "fA3kt6p3Cphz",
        "colab_type": "text"
      },
      "source": [
        "## Text Normalization"
      ]
    },
    {
      "cell_type": "markdown",
      "metadata": {
        "id": "Oz9nGZnHCwH8",
        "colab_type": "text"
      },
      "source": [
        "### **STEP 1 : Remove Numbers and Punctuations using Regular Expressions**"
      ]
    },
    {
      "cell_type": "code",
      "metadata": {
        "id": "uVeI0KolOOoK",
        "colab_type": "code",
        "outputId": "a9611fc1-cf35-481f-f3d4-429b2f8deef3",
        "colab": {
          "base_uri": "https://localhost:8080/",
          "height": 34
        }
      },
      "source": [
        "#sample to check working of re.sub function\n",
        "mystring = \"hello's world\"\n",
        "re.sub('[^A-Za-z ]+', '', mystring)"
      ],
      "execution_count": 0,
      "outputs": [
        {
          "output_type": "execute_result",
          "data": {
            "text/plain": [
              "'hellos world'"
            ]
          },
          "metadata": {
            "tags": []
          },
          "execution_count": 16
        }
      ]
    },
    {
      "cell_type": "code",
      "metadata": {
        "id": "yJseKAYFXZJV",
        "colab_type": "code",
        "colab": {}
      },
      "source": [
        "\n",
        "#lambda to clean data of punctuation and numbers\n",
        "def clean_data(x):\n",
        "  return re.sub('[^A-Za-z ]+', '', x)\n",
        "\n",
        "\n",
        "data['clean_hd'] = data[\"headline\"].apply(clean_data)"
      ],
      "execution_count": 0,
      "outputs": []
    },
    {
      "cell_type": "markdown",
      "metadata": {
        "id": "zAmrt9GjDCIZ",
        "colab_type": "text"
      },
      "source": [
        "### Saving the cleaned data"
      ]
    },
    {
      "cell_type": "code",
      "metadata": {
        "id": "7KQ-jG-TsnWa",
        "colab_type": "code",
        "colab": {}
      },
      "source": [
        "data.to_csv(\"/content/drive/My Drive/clean.csv\")"
      ],
      "execution_count": 0,
      "outputs": []
    },
    {
      "cell_type": "code",
      "metadata": {
        "id": "zdhz2ZS6-0jk",
        "colab_type": "code",
        "outputId": "0fb5a6ad-d502-47d6-a734-4a075a887f63",
        "colab": {
          "base_uri": "https://localhost:8080/",
          "height": 195
        }
      },
      "source": [
        "data.head()"
      ],
      "execution_count": 0,
      "outputs": [
        {
          "output_type": "execute_result",
          "data": {
            "text/html": [
              "<div>\n",
              "<style scoped>\n",
              "    .dataframe tbody tr th:only-of-type {\n",
              "        vertical-align: middle;\n",
              "    }\n",
              "\n",
              "    .dataframe tbody tr th {\n",
              "        vertical-align: top;\n",
              "    }\n",
              "\n",
              "    .dataframe thead th {\n",
              "        text-align: right;\n",
              "    }\n",
              "</style>\n",
              "<table border=\"1\" class=\"dataframe\">\n",
              "  <thead>\n",
              "    <tr style=\"text-align: right;\">\n",
              "      <th></th>\n",
              "      <th>headline</th>\n",
              "      <th>is_sarcastic</th>\n",
              "      <th>len</th>\n",
              "      <th>clean_hd</th>\n",
              "    </tr>\n",
              "  </thead>\n",
              "  <tbody>\n",
              "    <tr>\n",
              "      <th>0</th>\n",
              "      <td>former versace store clerk sues over secret 'black code' for minority shoppers</td>\n",
              "      <td>0</td>\n",
              "      <td>12</td>\n",
              "      <td>former versace store clerk sues over secret black code for minority shoppers</td>\n",
              "    </tr>\n",
              "    <tr>\n",
              "      <th>1</th>\n",
              "      <td>the 'roseanne' revival catches up to our thorny political mood, for better and worse</td>\n",
              "      <td>0</td>\n",
              "      <td>14</td>\n",
              "      <td>the roseanne revival catches up to our thorny political mood for better and worse</td>\n",
              "    </tr>\n",
              "    <tr>\n",
              "      <th>2</th>\n",
              "      <td>mom starting to fear son's web series closest thing she will have to grandchild</td>\n",
              "      <td>1</td>\n",
              "      <td>14</td>\n",
              "      <td>mom starting to fear sons web series closest thing she will have to grandchild</td>\n",
              "    </tr>\n",
              "    <tr>\n",
              "      <th>3</th>\n",
              "      <td>boehner just wants wife to listen, not come up with alternative debt-reduction ideas</td>\n",
              "      <td>1</td>\n",
              "      <td>13</td>\n",
              "      <td>boehner just wants wife to listen not come up with alternative debtreduction ideas</td>\n",
              "    </tr>\n",
              "    <tr>\n",
              "      <th>4</th>\n",
              "      <td>j.k. rowling wishes snape happy birthday in the most magical way</td>\n",
              "      <td>0</td>\n",
              "      <td>11</td>\n",
              "      <td>jk rowling wishes snape happy birthday in the most magical way</td>\n",
              "    </tr>\n",
              "  </tbody>\n",
              "</table>\n",
              "</div>"
            ],
            "text/plain": [
              "                                                                               headline  \\\n",
              "0        former versace store clerk sues over secret 'black code' for minority shoppers   \n",
              "1  the 'roseanne' revival catches up to our thorny political mood, for better and worse   \n",
              "2       mom starting to fear son's web series closest thing she will have to grandchild   \n",
              "3  boehner just wants wife to listen, not come up with alternative debt-reduction ideas   \n",
              "4                      j.k. rowling wishes snape happy birthday in the most magical way   \n",
              "\n",
              "   is_sarcastic  len  \\\n",
              "0             0   12   \n",
              "1             0   14   \n",
              "2             1   14   \n",
              "3             1   13   \n",
              "4             0   11   \n",
              "\n",
              "                                                                             clean_hd  \n",
              "0        former versace store clerk sues over secret black code for minority shoppers  \n",
              "1   the roseanne revival catches up to our thorny political mood for better and worse  \n",
              "2      mom starting to fear sons web series closest thing she will have to grandchild  \n",
              "3  boehner just wants wife to listen not come up with alternative debtreduction ideas  \n",
              "4                      jk rowling wishes snape happy birthday in the most magical way  "
            ]
          },
          "metadata": {
            "tags": []
          },
          "execution_count": 19
        }
      ]
    },
    {
      "cell_type": "code",
      "metadata": {
        "id": "di846Ma2TFjy",
        "colab_type": "code",
        "outputId": "100ca887-96fb-42c0-ac46-4dc3f741d435",
        "colab": {
          "base_uri": "https://localhost:8080/",
          "height": 269
        }
      },
      "source": [
        "data['len'].plot(kind='hist')\n",
        "plt.show()"
      ],
      "execution_count": 0,
      "outputs": [
        {
          "output_type": "display_data",
          "data": {
            "image/png": "[encoded data removed]",
            "text/plain": [
              "<Figure size 432x288 with 1 Axes>"
            ]
          },
          "metadata": {
            "tags": []
          }
        }
      ]
    },
    {
      "cell_type": "markdown",
      "metadata": {
        "id": "S6xP23UbDIKa",
        "colab_type": "text"
      },
      "source": [
        "### Removing the headlines whose length is greater than 15 and getting it's shape"
      ]
    },
    {
      "cell_type": "code",
      "metadata": {
        "id": "yYm4IpyNTFji",
        "colab_type": "code",
        "outputId": "4c588194-22db-4a82-dcf3-6d6a1821d8a5",
        "colab": {
          "base_uri": "https://localhost:8080/",
          "height": 229
        }
      },
      "source": [
        "# removing those headline whose length is greather than 15\n",
        "print('shape before preprocessing ',data.shape)\n",
        "data = data[data['len'] < 20]\n",
        "print('shape after preprocessing ',data.shape)\n",
        "data.head()"
      ],
      "execution_count": 0,
      "outputs": [
        {
          "output_type": "stream",
          "text": [
            "shape before preprocessing  (26709, 4)\n",
            "shape after preprocessing  (26606, 4)\n"
          ],
          "name": "stdout"
        },
        {
          "output_type": "execute_result",
          "data": {
            "text/html": [
              "<div>\n",
              "<style scoped>\n",
              "    .dataframe tbody tr th:only-of-type {\n",
              "        vertical-align: middle;\n",
              "    }\n",
              "\n",
              "    .dataframe tbody tr th {\n",
              "        vertical-align: top;\n",
              "    }\n",
              "\n",
              "    .dataframe thead th {\n",
              "        text-align: right;\n",
              "    }\n",
              "</style>\n",
              "<table border=\"1\" class=\"dataframe\">\n",
              "  <thead>\n",
              "    <tr style=\"text-align: right;\">\n",
              "      <th></th>\n",
              "      <th>headline</th>\n",
              "      <th>is_sarcastic</th>\n",
              "      <th>len</th>\n",
              "      <th>clean_hd</th>\n",
              "    </tr>\n",
              "  </thead>\n",
              "  <tbody>\n",
              "    <tr>\n",
              "      <th>0</th>\n",
              "      <td>former versace store clerk sues over secret 'black code' for minority shoppers</td>\n",
              "      <td>0</td>\n",
              "      <td>12</td>\n",
              "      <td>former versace store clerk sues over secret black code for minority shoppers</td>\n",
              "    </tr>\n",
              "    <tr>\n",
              "      <th>1</th>\n",
              "      <td>the 'roseanne' revival catches up to our thorny political mood, for better and worse</td>\n",
              "      <td>0</td>\n",
              "      <td>14</td>\n",
              "      <td>the roseanne revival catches up to our thorny political mood for better and worse</td>\n",
              "    </tr>\n",
              "    <tr>\n",
              "      <th>2</th>\n",
              "      <td>mom starting to fear son's web series closest thing she will have to grandchild</td>\n",
              "      <td>1</td>\n",
              "      <td>14</td>\n",
              "      <td>mom starting to fear sons web series closest thing she will have to grandchild</td>\n",
              "    </tr>\n",
              "    <tr>\n",
              "      <th>3</th>\n",
              "      <td>boehner just wants wife to listen, not come up with alternative debt-reduction ideas</td>\n",
              "      <td>1</td>\n",
              "      <td>13</td>\n",
              "      <td>boehner just wants wife to listen not come up with alternative debtreduction ideas</td>\n",
              "    </tr>\n",
              "    <tr>\n",
              "      <th>4</th>\n",
              "      <td>j.k. rowling wishes snape happy birthday in the most magical way</td>\n",
              "      <td>0</td>\n",
              "      <td>11</td>\n",
              "      <td>jk rowling wishes snape happy birthday in the most magical way</td>\n",
              "    </tr>\n",
              "  </tbody>\n",
              "</table>\n",
              "</div>"
            ],
            "text/plain": [
              "                                                                               headline  \\\n",
              "0        former versace store clerk sues over secret 'black code' for minority shoppers   \n",
              "1  the 'roseanne' revival catches up to our thorny political mood, for better and worse   \n",
              "2       mom starting to fear son's web series closest thing she will have to grandchild   \n",
              "3  boehner just wants wife to listen, not come up with alternative debt-reduction ideas   \n",
              "4                      j.k. rowling wishes snape happy birthday in the most magical way   \n",
              "\n",
              "   is_sarcastic  len  \\\n",
              "0             0   12   \n",
              "1             0   14   \n",
              "2             1   14   \n",
              "3             1   13   \n",
              "4             0   11   \n",
              "\n",
              "                                                                             clean_hd  \n",
              "0        former versace store clerk sues over secret black code for minority shoppers  \n",
              "1   the roseanne revival catches up to our thorny political mood for better and worse  \n",
              "2      mom starting to fear sons web series closest thing she will have to grandchild  \n",
              "3  boehner just wants wife to listen not come up with alternative debtreduction ideas  \n",
              "4                      jk rowling wishes snape happy birthday in the most magical way  "
            ]
          },
          "metadata": {
            "tags": []
          },
          "execution_count": 21
        }
      ]
    },
    {
      "cell_type": "markdown",
      "metadata": {
        "id": "BrDDjjGuEfBz",
        "colab_type": "text"
      },
      "source": [
        " The Natural Language Toolkit, or more commonly NLTK, is a suite of libraries and programs for symbolic and statistical natural language processing (NLP). Using this we will carry out further pre-processing steps like tokenization and lemmetization."
      ]
    },
    {
      "cell_type": "markdown",
      "metadata": {
        "id": "rENkKhwzFdee",
        "colab_type": "text"
      },
      "source": [
        "### Step 2: Tokenization"
      ]
    },
    {
      "cell_type": "markdown",
      "metadata": {
        "id": "j15zNeHGGVe9",
        "colab_type": "text"
      },
      "source": [
        "Tokenization describes the general process of breaking down a text corpus into individual elements that serve as input for various natural language processing algorithms. Usually, tokenization is accompanied by other optional processing steps, such as the removal of stop words and punctuation characters, stemming or lemmatizing, and the construction of n-grams."
      ]
    },
    {
      "cell_type": "code",
      "metadata": {
        "id": "0Iy0asYPnnvC",
        "colab_type": "code",
        "outputId": "ad657e1b-c4a7-4205-e209-4d6620fbaea8",
        "colab": {
          "base_uri": "https://localhost:8080/",
          "height": 279
        }
      },
      "source": [
        "# Tokenization process\n",
        "def tokenize_data(x):\n",
        "  return x.split(\" \")\n",
        "\n",
        "data[\"tokens\"] = data[\"clean_hd\"].apply(tokenize_data)\n",
        "data.head()"
      ],
      "execution_count": 0,
      "outputs": [
        {
          "output_type": "execute_result",
          "data": {
            "text/html": [
              "<div>\n",
              "<style scoped>\n",
              "    .dataframe tbody tr th:only-of-type {\n",
              "        vertical-align: middle;\n",
              "    }\n",
              "\n",
              "    .dataframe tbody tr th {\n",
              "        vertical-align: top;\n",
              "    }\n",
              "\n",
              "    .dataframe thead th {\n",
              "        text-align: right;\n",
              "    }\n",
              "</style>\n",
              "<table border=\"1\" class=\"dataframe\">\n",
              "  <thead>\n",
              "    <tr style=\"text-align: right;\">\n",
              "      <th></th>\n",
              "      <th>headline</th>\n",
              "      <th>is_sarcastic</th>\n",
              "      <th>len</th>\n",
              "      <th>clean_hd</th>\n",
              "      <th>tokens</th>\n",
              "    </tr>\n",
              "  </thead>\n",
              "  <tbody>\n",
              "    <tr>\n",
              "      <th>0</th>\n",
              "      <td>former versace store clerk sues over secret 'black code' for minority shoppers</td>\n",
              "      <td>0</td>\n",
              "      <td>12</td>\n",
              "      <td>former versace store clerk sues over secret black code for minority shoppers</td>\n",
              "      <td>[former, versace, store, clerk, sues, over, secret, black, code, for, minority, shoppers]</td>\n",
              "    </tr>\n",
              "    <tr>\n",
              "      <th>1</th>\n",
              "      <td>the 'roseanne' revival catches up to our thorny political mood, for better and worse</td>\n",
              "      <td>0</td>\n",
              "      <td>14</td>\n",
              "      <td>the roseanne revival catches up to our thorny political mood for better and worse</td>\n",
              "      <td>[the, roseanne, revival, catches, up, to, our, thorny, political, mood, for, better, and, worse]</td>\n",
              "    </tr>\n",
              "    <tr>\n",
              "      <th>2</th>\n",
              "      <td>mom starting to fear son's web series closest thing she will have to grandchild</td>\n",
              "      <td>1</td>\n",
              "      <td>14</td>\n",
              "      <td>mom starting to fear sons web series closest thing she will have to grandchild</td>\n",
              "      <td>[mom, starting, to, fear, sons, web, series, closest, thing, she, will, have, to, grandchild]</td>\n",
              "    </tr>\n",
              "    <tr>\n",
              "      <th>3</th>\n",
              "      <td>boehner just wants wife to listen, not come up with alternative debt-reduction ideas</td>\n",
              "      <td>1</td>\n",
              "      <td>13</td>\n",
              "      <td>boehner just wants wife to listen not come up with alternative debtreduction ideas</td>\n",
              "      <td>[boehner, just, wants, wife, to, listen, not, come, up, with, alternative, debtreduction, ideas]</td>\n",
              "    </tr>\n",
              "    <tr>\n",
              "      <th>4</th>\n",
              "      <td>j.k. rowling wishes snape happy birthday in the most magical way</td>\n",
              "      <td>0</td>\n",
              "      <td>11</td>\n",
              "      <td>jk rowling wishes snape happy birthday in the most magical way</td>\n",
              "      <td>[jk, rowling, wishes, snape, happy, birthday, in, the, most, magical, way]</td>\n",
              "    </tr>\n",
              "  </tbody>\n",
              "</table>\n",
              "</div>"
            ],
            "text/plain": [
              "                                                                               headline  \\\n",
              "0        former versace store clerk sues over secret 'black code' for minority shoppers   \n",
              "1  the 'roseanne' revival catches up to our thorny political mood, for better and worse   \n",
              "2       mom starting to fear son's web series closest thing she will have to grandchild   \n",
              "3  boehner just wants wife to listen, not come up with alternative debt-reduction ideas   \n",
              "4                      j.k. rowling wishes snape happy birthday in the most magical way   \n",
              "\n",
              "   is_sarcastic  len  \\\n",
              "0             0   12   \n",
              "1             0   14   \n",
              "2             1   14   \n",
              "3             1   13   \n",
              "4             0   11   \n",
              "\n",
              "                                                                             clean_hd  \\\n",
              "0        former versace store clerk sues over secret black code for minority shoppers   \n",
              "1   the roseanne revival catches up to our thorny political mood for better and worse   \n",
              "2      mom starting to fear sons web series closest thing she will have to grandchild   \n",
              "3  boehner just wants wife to listen not come up with alternative debtreduction ideas   \n",
              "4                      jk rowling wishes snape happy birthday in the most magical way   \n",
              "\n",
              "                                                                                             tokens  \n",
              "0         [former, versace, store, clerk, sues, over, secret, black, code, for, minority, shoppers]  \n",
              "1  [the, roseanne, revival, catches, up, to, our, thorny, political, mood, for, better, and, worse]  \n",
              "2     [mom, starting, to, fear, sons, web, series, closest, thing, she, will, have, to, grandchild]  \n",
              "3  [boehner, just, wants, wife, to, listen, not, come, up, with, alternative, debtreduction, ideas]  \n",
              "4                        [jk, rowling, wishes, snape, happy, birthday, in, the, most, magical, way]  "
            ]
          },
          "metadata": {
            "tags": []
          },
          "execution_count": 22
        }
      ]
    },
    {
      "cell_type": "markdown",
      "metadata": {
        "id": "t3m5M4eXG1kn",
        "colab_type": "text"
      },
      "source": [
        "### Step 3: Parts of Speech Tagging"
      ]
    },
    {
      "cell_type": "markdown",
      "metadata": {
        "id": "N4I_rH__HDvT",
        "colab_type": "text"
      },
      "source": [
        "Part-of-speech tagging aims to assign parts of speech to each word of a given text (such as nouns, verbs, adjectives, and others) based on its definition and its context. We collect the tokens and then lemmatize the embeddings based on the parts of speech using NLTK."
      ]
    },
    {
      "cell_type": "markdown",
      "metadata": {
        "id": "Xw_91LaaGxTn",
        "colab_type": "text"
      },
      "source": [
        "Here we use nltk to generate various parts of speech (POS) tags for sarcastic and non-sarcastic sentences and store it in different dataframe"
      ]
    },
    {
      "cell_type": "code",
      "metadata": {
        "id": "Hr0AGPRZ-EdR",
        "colab_type": "code",
        "colab": {}
      },
      "source": [
        "\n",
        "#lambda to POS tag the whole sentence\n",
        "\n",
        "def calc_pos(x):\n",
        "  tokens = x.split(\" \")\n",
        "  try:\n",
        "    tagged_sent = nltk.pos_tag(tokens)\n",
        "  except:\n",
        "    tagged_sent = [\"Can not Pos\"]\n",
        "  \n",
        "  return tagged_sent\n"
      ],
      "execution_count": 0,
      "outputs": []
    },
    {
      "cell_type": "code",
      "metadata": {
        "id": "ryYSq4rw_tzN",
        "colab_type": "code",
        "colab": {}
      },
      "source": [
        "#seperating out sarcastic and non-sarcastic sentences\n",
        "\n",
        "data_sar = data[data[\"is_sarcastic\"] == 1]\n",
        "data_non_sar = data[data[\"is_sarcastic\"]==0]"
      ],
      "execution_count": 0,
      "outputs": []
    },
    {
      "cell_type": "code",
      "metadata": {
        "id": "gy4XP30tIeex",
        "colab_type": "code",
        "outputId": "cc7e1428-585b-4b28-f1d4-4851b318a966",
        "colab": {
          "base_uri": "https://localhost:8080/",
          "height": 218
        }
      },
      "source": [
        "\n",
        "#applying lambda to generate POS for both frames\n",
        "data_sar[\"pos\"] = data_sar[\"clean_hd\"].apply(calc_pos)\n",
        "data_non_sar[\"pos\"] = data_non_sar[\"clean_hd\"].apply(calc_pos)"
      ],
      "execution_count": 0,
      "outputs": [
        {
          "output_type": "stream",
          "text": [
            "/usr/local/lib/python3.6/dist-packages/ipykernel_launcher.py:1: SettingWithCopyWarning: \n",
            "A value is trying to be set on a copy of a slice from a DataFrame.\n",
            "Try using .loc[row_indexer,col_indexer] = value instead\n",
            "\n",
            "See the caveats in the documentation: http://pandas.pydata.org/pandas-docs/stable/indexing.html#indexing-view-versus-copy\n",
            "  \"\"\"Entry point for launching an IPython kernel.\n",
            "/usr/local/lib/python3.6/dist-packages/ipykernel_launcher.py:2: SettingWithCopyWarning: \n",
            "A value is trying to be set on a copy of a slice from a DataFrame.\n",
            "Try using .loc[row_indexer,col_indexer] = value instead\n",
            "\n",
            "See the caveats in the documentation: http://pandas.pydata.org/pandas-docs/stable/indexing.html#indexing-view-versus-copy\n",
            "  \n"
          ],
          "name": "stderr"
        }
      ]
    },
    {
      "cell_type": "code",
      "metadata": {
        "id": "4zDRVFdFoZCM",
        "colab_type": "code",
        "outputId": "48bf0e0d-aecd-4818-aff9-ddb503def6f5",
        "colab": {
          "base_uri": "https://localhost:8080/",
          "height": 330
        }
      },
      "source": [
        "data_sar.head()"
      ],
      "execution_count": 0,
      "outputs": [
        {
          "output_type": "execute_result",
          "data": {
            "text/html": [
              "<div>\n",
              "<style scoped>\n",
              "    .dataframe tbody tr th:only-of-type {\n",
              "        vertical-align: middle;\n",
              "    }\n",
              "\n",
              "    .dataframe tbody tr th {\n",
              "        vertical-align: top;\n",
              "    }\n",
              "\n",
              "    .dataframe thead th {\n",
              "        text-align: right;\n",
              "    }\n",
              "</style>\n",
              "<table border=\"1\" class=\"dataframe\">\n",
              "  <thead>\n",
              "    <tr style=\"text-align: right;\">\n",
              "      <th></th>\n",
              "      <th>headline</th>\n",
              "      <th>is_sarcastic</th>\n",
              "      <th>len</th>\n",
              "      <th>clean_hd</th>\n",
              "      <th>tokens</th>\n",
              "      <th>pos</th>\n",
              "    </tr>\n",
              "  </thead>\n",
              "  <tbody>\n",
              "    <tr>\n",
              "      <th>2</th>\n",
              "      <td>mom starting to fear son's web series closest thing she will have to grandchild</td>\n",
              "      <td>1</td>\n",
              "      <td>14</td>\n",
              "      <td>mom starting to fear sons web series closest thing she will have to grandchild</td>\n",
              "      <td>[mom, starting, to, fear, sons, web, series, closest, thing, she, will, have, to, grandchild]</td>\n",
              "      <td>[(mom, NN), (starting, VBG), (to, TO), (fear, VB), (sons, NNS), (web, JJ), (series, NN), (closest, JJS), (thing, NN), (she, PRP), (will, MD), (have, VB), (to, TO), (grandchild, VB)]</td>\n",
              "    </tr>\n",
              "    <tr>\n",
              "      <th>3</th>\n",
              "      <td>boehner just wants wife to listen, not come up with alternative debt-reduction ideas</td>\n",
              "      <td>1</td>\n",
              "      <td>13</td>\n",
              "      <td>boehner just wants wife to listen not come up with alternative debtreduction ideas</td>\n",
              "      <td>[boehner, just, wants, wife, to, listen, not, come, up, with, alternative, debtreduction, ideas]</td>\n",
              "      <td>[(boehner, NN), (just, RB), (wants, VBZ), (wife, NN), (to, TO), (listen, VB), (not, RB), (come, VBN), (up, RP), (with, IN), (alternative, JJ), (debtreduction, NN), (ideas, NNS)]</td>\n",
              "    </tr>\n",
              "    <tr>\n",
              "      <th>8</th>\n",
              "      <td>top snake handler leaves sinking huckabee campaign</td>\n",
              "      <td>1</td>\n",
              "      <td>7</td>\n",
              "      <td>top snake handler leaves sinking huckabee campaign</td>\n",
              "      <td>[top, snake, handler, leaves, sinking, huckabee, campaign]</td>\n",
              "      <td>[(top, JJ), (snake, NN), (handler, NN), (leaves, VBZ), (sinking, VBG), (huckabee, NN), (campaign, NN)]</td>\n",
              "    </tr>\n",
              "    <tr>\n",
              "      <th>15</th>\n",
              "      <td>nuclear bomb detonates during rehearsal for 'spider-man' musical</td>\n",
              "      <td>1</td>\n",
              "      <td>8</td>\n",
              "      <td>nuclear bomb detonates during rehearsal for spiderman musical</td>\n",
              "      <td>[nuclear, bomb, detonates, during, rehearsal, for, spiderman, musical]</td>\n",
              "      <td>[(nuclear, JJ), (bomb, NN), (detonates, NNS), (during, IN), (rehearsal, NN), (for, IN), (spiderman, JJ), (musical, JJ)]</td>\n",
              "    </tr>\n",
              "    <tr>\n",
              "      <th>16</th>\n",
              "      <td>cosby lawyer asks why accusers didn't come forward to be smeared by legal team years ago</td>\n",
              "      <td>1</td>\n",
              "      <td>16</td>\n",
              "      <td>cosby lawyer asks why accusers didnt come forward to be smeared by legal team years ago</td>\n",
              "      <td>[cosby, lawyer, asks, why, accusers, didnt, come, forward, to, be, smeared, by, legal, team, years, ago]</td>\n",
              "      <td>[(cosby, NN), (lawyer, NN), (asks, VBZ), (why, WRB), (accusers, NNS), (didnt, VBP), (come, VB), (forward, NN), (to, TO), (be, VB), (smeared, VBN), (by, IN), (legal, JJ), (team, NN), (years, NNS), (ago, RB)]</td>\n",
              "    </tr>\n",
              "  </tbody>\n",
              "</table>\n",
              "</div>"
            ],
            "text/plain": [
              "                                                                                    headline  \\\n",
              "2            mom starting to fear son's web series closest thing she will have to grandchild   \n",
              "3       boehner just wants wife to listen, not come up with alternative debt-reduction ideas   \n",
              "8                                         top snake handler leaves sinking huckabee campaign   \n",
              "15                          nuclear bomb detonates during rehearsal for 'spider-man' musical   \n",
              "16  cosby lawyer asks why accusers didn't come forward to be smeared by legal team years ago   \n",
              "\n",
              "    is_sarcastic  len  \\\n",
              "2              1   14   \n",
              "3              1   13   \n",
              "8              1    7   \n",
              "15             1    8   \n",
              "16             1   16   \n",
              "\n",
              "                                                                                   clean_hd  \\\n",
              "2            mom starting to fear sons web series closest thing she will have to grandchild   \n",
              "3        boehner just wants wife to listen not come up with alternative debtreduction ideas   \n",
              "8                                        top snake handler leaves sinking huckabee campaign   \n",
              "15                            nuclear bomb detonates during rehearsal for spiderman musical   \n",
              "16  cosby lawyer asks why accusers didnt come forward to be smeared by legal team years ago   \n",
              "\n",
              "                                                                                                      tokens  \\\n",
              "2              [mom, starting, to, fear, sons, web, series, closest, thing, she, will, have, to, grandchild]   \n",
              "3           [boehner, just, wants, wife, to, listen, not, come, up, with, alternative, debtreduction, ideas]   \n",
              "8                                                 [top, snake, handler, leaves, sinking, huckabee, campaign]   \n",
              "15                                    [nuclear, bomb, detonates, during, rehearsal, for, spiderman, musical]   \n",
              "16  [cosby, lawyer, asks, why, accusers, didnt, come, forward, to, be, smeared, by, legal, team, years, ago]   \n",
              "\n",
              "                                                                                                                                                                                                               pos  \n",
              "2                            [(mom, NN), (starting, VBG), (to, TO), (fear, VB), (sons, NNS), (web, JJ), (series, NN), (closest, JJS), (thing, NN), (she, PRP), (will, MD), (have, VB), (to, TO), (grandchild, VB)]  \n",
              "3                                [(boehner, NN), (just, RB), (wants, VBZ), (wife, NN), (to, TO), (listen, VB), (not, RB), (come, VBN), (up, RP), (with, IN), (alternative, JJ), (debtreduction, NN), (ideas, NNS)]  \n",
              "8                                                                                                           [(top, JJ), (snake, NN), (handler, NN), (leaves, VBZ), (sinking, VBG), (huckabee, NN), (campaign, NN)]  \n",
              "15                                                                                         [(nuclear, JJ), (bomb, NN), (detonates, NNS), (during, IN), (rehearsal, NN), (for, IN), (spiderman, JJ), (musical, JJ)]  \n",
              "16  [(cosby, NN), (lawyer, NN), (asks, VBZ), (why, WRB), (accusers, NNS), (didnt, VBP), (come, VB), (forward, NN), (to, TO), (be, VB), (smeared, VBN), (by, IN), (legal, JJ), (team, NN), (years, NNS), (ago, RB)]  "
            ]
          },
          "metadata": {
            "tags": []
          },
          "execution_count": 26
        }
      ]
    },
    {
      "cell_type": "markdown",
      "metadata": {
        "id": "cIjuWzEmHRqd",
        "colab_type": "text"
      },
      "source": [
        "### Calculate the total number of each type of POS and observe the distribution over the sentences "
      ]
    },
    {
      "cell_type": "code",
      "metadata": {
        "id": "tGdnJ_F3HkH2",
        "colab_type": "code",
        "colab": {}
      },
      "source": [
        "sarc_count ={}\n",
        "non_sarc_count = {}\n",
        "def pos_dict(x):\n",
        "    try:\n",
        "      pos_dict = dict(x)\n",
        "    except:\n",
        "      pos_dict = {}\n",
        "    for k,v in pos_dict.items():\n",
        "      if v in sarc_count:\n",
        "        sarc_count[v]+=1\n",
        "      else:\n",
        "        sarc_count[v] = 1\n",
        "    \n",
        "    return pos_dict\n",
        "   \n",
        "def pos_dict_no_sarc(x):\n",
        "    try:\n",
        "      pos_dict = dict(x)\n",
        "    except:\n",
        "      pos_dict = {}\n",
        "    for k,v in pos_dict.items():\n",
        "      if v in non_sarc_count:\n",
        "        non_sarc_count[v]+=1\n",
        "      else:\n",
        "        non_sarc_count[v] = 1\n",
        "    \n",
        "    return pos_dict\n",
        "    \n",
        "    \n",
        "d1 = data_sar[\"pos\"].apply(pos_dict)\n",
        "d2 = data_non_sar[\"pos\"].apply(pos_dict_no_sarc)"
      ],
      "execution_count": 0,
      "outputs": []
    },
    {
      "cell_type": "code",
      "metadata": {
        "id": "Wk8yFPpFQJQp",
        "colab_type": "code",
        "outputId": "12e20877-79f6-43b2-a6e6-dc55f7b5e4a0",
        "colab": {
          "base_uri": "https://localhost:8080/",
          "height": 34
        }
      },
      "source": [
        "type(data_sar[\"pos\"])"
      ],
      "execution_count": 0,
      "outputs": [
        {
          "output_type": "execute_result",
          "data": {
            "text/plain": [
              "pandas.core.series.Series"
            ]
          },
          "metadata": {
            "tags": []
          },
          "execution_count": 28
        }
      ]
    },
    {
      "cell_type": "code",
      "metadata": {
        "id": "s44Z8OEQmdQN",
        "colab_type": "code",
        "outputId": "31de567b-82c6-4717-8a11-59e3ea1fda2f",
        "colab": {
          "base_uri": "https://localhost:8080/",
          "height": 330
        }
      },
      "source": [
        "data_sar.head()"
      ],
      "execution_count": 0,
      "outputs": [
        {
          "output_type": "execute_result",
          "data": {
            "text/html": [
              "<div>\n",
              "<style scoped>\n",
              "    .dataframe tbody tr th:only-of-type {\n",
              "        vertical-align: middle;\n",
              "    }\n",
              "\n",
              "    .dataframe tbody tr th {\n",
              "        vertical-align: top;\n",
              "    }\n",
              "\n",
              "    .dataframe thead th {\n",
              "        text-align: right;\n",
              "    }\n",
              "</style>\n",
              "<table border=\"1\" class=\"dataframe\">\n",
              "  <thead>\n",
              "    <tr style=\"text-align: right;\">\n",
              "      <th></th>\n",
              "      <th>headline</th>\n",
              "      <th>is_sarcastic</th>\n",
              "      <th>len</th>\n",
              "      <th>clean_hd</th>\n",
              "      <th>tokens</th>\n",
              "      <th>pos</th>\n",
              "    </tr>\n",
              "  </thead>\n",
              "  <tbody>\n",
              "    <tr>\n",
              "      <th>2</th>\n",
              "      <td>mom starting to fear son's web series closest thing she will have to grandchild</td>\n",
              "      <td>1</td>\n",
              "      <td>14</td>\n",
              "      <td>mom starting to fear sons web series closest thing she will have to grandchild</td>\n",
              "      <td>[mom, starting, to, fear, sons, web, series, closest, thing, she, will, have, to, grandchild]</td>\n",
              "      <td>[(mom, NN), (starting, VBG), (to, TO), (fear, VB), (sons, NNS), (web, JJ), (series, NN), (closest, JJS), (thing, NN), (she, PRP), (will, MD), (have, VB), (to, TO), (grandchild, VB)]</td>\n",
              "    </tr>\n",
              "    <tr>\n",
              "      <th>3</th>\n",
              "      <td>boehner just wants wife to listen, not come up with alternative debt-reduction ideas</td>\n",
              "      <td>1</td>\n",
              "      <td>13</td>\n",
              "      <td>boehner just wants wife to listen not come up with alternative debtreduction ideas</td>\n",
              "      <td>[boehner, just, wants, wife, to, listen, not, come, up, with, alternative, debtreduction, ideas]</td>\n",
              "      <td>[(boehner, NN), (just, RB), (wants, VBZ), (wife, NN), (to, TO), (listen, VB), (not, RB), (come, VBN), (up, RP), (with, IN), (alternative, JJ), (debtreduction, NN), (ideas, NNS)]</td>\n",
              "    </tr>\n",
              "    <tr>\n",
              "      <th>8</th>\n",
              "      <td>top snake handler leaves sinking huckabee campaign</td>\n",
              "      <td>1</td>\n",
              "      <td>7</td>\n",
              "      <td>top snake handler leaves sinking huckabee campaign</td>\n",
              "      <td>[top, snake, handler, leaves, sinking, huckabee, campaign]</td>\n",
              "      <td>[(top, JJ), (snake, NN), (handler, NN), (leaves, VBZ), (sinking, VBG), (huckabee, NN), (campaign, NN)]</td>\n",
              "    </tr>\n",
              "    <tr>\n",
              "      <th>15</th>\n",
              "      <td>nuclear bomb detonates during rehearsal for 'spider-man' musical</td>\n",
              "      <td>1</td>\n",
              "      <td>8</td>\n",
              "      <td>nuclear bomb detonates during rehearsal for spiderman musical</td>\n",
              "      <td>[nuclear, bomb, detonates, during, rehearsal, for, spiderman, musical]</td>\n",
              "      <td>[(nuclear, JJ), (bomb, NN), (detonates, NNS), (during, IN), (rehearsal, NN), (for, IN), (spiderman, JJ), (musical, JJ)]</td>\n",
              "    </tr>\n",
              "    <tr>\n",
              "      <th>16</th>\n",
              "      <td>cosby lawyer asks why accusers didn't come forward to be smeared by legal team years ago</td>\n",
              "      <td>1</td>\n",
              "      <td>16</td>\n",
              "      <td>cosby lawyer asks why accusers didnt come forward to be smeared by legal team years ago</td>\n",
              "      <td>[cosby, lawyer, asks, why, accusers, didnt, come, forward, to, be, smeared, by, legal, team, years, ago]</td>\n",
              "      <td>[(cosby, NN), (lawyer, NN), (asks, VBZ), (why, WRB), (accusers, NNS), (didnt, VBP), (come, VB), (forward, NN), (to, TO), (be, VB), (smeared, VBN), (by, IN), (legal, JJ), (team, NN), (years, NNS), (ago, RB)]</td>\n",
              "    </tr>\n",
              "  </tbody>\n",
              "</table>\n",
              "</div>"
            ],
            "text/plain": [
              "                                                                                    headline  \\\n",
              "2            mom starting to fear son's web series closest thing she will have to grandchild   \n",
              "3       boehner just wants wife to listen, not come up with alternative debt-reduction ideas   \n",
              "8                                         top snake handler leaves sinking huckabee campaign   \n",
              "15                          nuclear bomb detonates during rehearsal for 'spider-man' musical   \n",
              "16  cosby lawyer asks why accusers didn't come forward to be smeared by legal team years ago   \n",
              "\n",
              "    is_sarcastic  len  \\\n",
              "2              1   14   \n",
              "3              1   13   \n",
              "8              1    7   \n",
              "15             1    8   \n",
              "16             1   16   \n",
              "\n",
              "                                                                                   clean_hd  \\\n",
              "2            mom starting to fear sons web series closest thing she will have to grandchild   \n",
              "3        boehner just wants wife to listen not come up with alternative debtreduction ideas   \n",
              "8                                        top snake handler leaves sinking huckabee campaign   \n",
              "15                            nuclear bomb detonates during rehearsal for spiderman musical   \n",
              "16  cosby lawyer asks why accusers didnt come forward to be smeared by legal team years ago   \n",
              "\n",
              "                                                                                                      tokens  \\\n",
              "2              [mom, starting, to, fear, sons, web, series, closest, thing, she, will, have, to, grandchild]   \n",
              "3           [boehner, just, wants, wife, to, listen, not, come, up, with, alternative, debtreduction, ideas]   \n",
              "8                                                 [top, snake, handler, leaves, sinking, huckabee, campaign]   \n",
              "15                                    [nuclear, bomb, detonates, during, rehearsal, for, spiderman, musical]   \n",
              "16  [cosby, lawyer, asks, why, accusers, didnt, come, forward, to, be, smeared, by, legal, team, years, ago]   \n",
              "\n",
              "                                                                                                                                                                                                               pos  \n",
              "2                            [(mom, NN), (starting, VBG), (to, TO), (fear, VB), (sons, NNS), (web, JJ), (series, NN), (closest, JJS), (thing, NN), (she, PRP), (will, MD), (have, VB), (to, TO), (grandchild, VB)]  \n",
              "3                                [(boehner, NN), (just, RB), (wants, VBZ), (wife, NN), (to, TO), (listen, VB), (not, RB), (come, VBN), (up, RP), (with, IN), (alternative, JJ), (debtreduction, NN), (ideas, NNS)]  \n",
              "8                                                                                                           [(top, JJ), (snake, NN), (handler, NN), (leaves, VBZ), (sinking, VBG), (huckabee, NN), (campaign, NN)]  \n",
              "15                                                                                         [(nuclear, JJ), (bomb, NN), (detonates, NNS), (during, IN), (rehearsal, NN), (for, IN), (spiderman, JJ), (musical, JJ)]  \n",
              "16  [(cosby, NN), (lawyer, NN), (asks, VBZ), (why, WRB), (accusers, NNS), (didnt, VBP), (come, VB), (forward, NN), (to, TO), (be, VB), (smeared, VBN), (by, IN), (legal, JJ), (team, NN), (years, NNS), (ago, RB)]  "
            ]
          },
          "metadata": {
            "tags": []
          },
          "execution_count": 29
        }
      ]
    },
    {
      "cell_type": "markdown",
      "metadata": {
        "id": "JRrlSJEUICzP",
        "colab_type": "text"
      },
      "source": [
        "### Plotting the parts of speech tags of Sarcastic and non-sarcastic labels"
      ]
    },
    {
      "cell_type": "code",
      "metadata": {
        "id": "Z7V-z_iLTJRv",
        "colab_type": "code",
        "outputId": "674daa64-b273-42a4-ce76-5a5e969da48b",
        "colab": {
          "base_uri": "https://localhost:8080/",
          "height": 607
        }
      },
      "source": [
        "import matplotlib.pyplot as plt\n",
        "\n",
        "fig = plt.figure(figsize=(20,10))\n",
        "plt.bar(range(len(sarc_count)), list(sarc_count.values()), align='center')\n",
        "plt.xticks(range(len(sarc_count)), list(sarc_count.keys()))\n",
        "\n",
        "# plt.bar(*zip(*sarc_count.items()), align = 'center')\n",
        "plt.title(\" Parts Of Speech of Sarcastic\")\n",
        "plt.show()\n",
        "\n"
      ],
      "execution_count": 0,
      "outputs": [
        {
          "output_type": "display_data",
          "data": {
            "image/png": "[encoded data removed]",
            "text/plain": [
              "<Figure size 1440x720 with 1 Axes>"
            ]
          },
          "metadata": {
            "tags": []
          }
        }
      ]
    },
    {
      "cell_type": "code",
      "metadata": {
        "id": "MX5wT5Zggrxl",
        "colab_type": "code",
        "outputId": "05e926bd-a769-4d62-d5ef-edee719e05a8",
        "colab": {
          "base_uri": "https://localhost:8080/",
          "height": 607
        }
      },
      "source": [
        "fig = plt.figure(figsize=(20,10))\n",
        "plt.bar(*zip(*non_sarc_count.items()), align = 'center')\n",
        "plt.title(\" Parts Of Speech of Non Sarcastic\")\n",
        "plt.show()"
      ],
      "execution_count": 0,
      "outputs": [
        {
          "output_type": "display_data",
          "data": {
            "image/png": "[encoded data removed]",
            "text/plain": [
              "<Figure size 1440x720 with 1 Axes>"
            ]
          },
          "metadata": {
            "tags": []
          }
        }
      ]
    },
    {
      "cell_type": "markdown",
      "metadata": {
        "id": "-TLwSw8HLyXI",
        "colab_type": "text"
      },
      "source": [
        "We observe that most of the sarcastic words are nouns and verbs. They are used frequently and hence we lemmetize them."
      ]
    },
    {
      "cell_type": "markdown",
      "metadata": {
        "id": "BsUgpKaMIXpV",
        "colab_type": "text"
      },
      "source": [
        "### Step 4: Lemmetization"
      ]
    },
    {
      "cell_type": "markdown",
      "metadata": {
        "id": "sf9TpH32Jizo",
        "colab_type": "text"
      },
      "source": [
        "The aim of lemmatization, like stemming, is to reduce inflectional forms to a common base form. As opposed to stemming, lemmatization does not simply chop off inflections. Instead it uses lexical knowledge bases to get the correct base forms of words."
      ]
    },
    {
      "cell_type": "code",
      "metadata": {
        "id": "mUGaefzOg9sT",
        "colab_type": "code",
        "outputId": "6865d6d3-2f82-4147-9c2d-bc14bf1316a1",
        "colab": {
          "base_uri": "https://localhost:8080/",
          "height": 118
        }
      },
      "source": [
        "\n",
        "lemm = WordNetLemmatizer()\n",
        "\n",
        "\n",
        "def lemmat(x):\n",
        "  try:\n",
        "    x = x.split(\" \")\n",
        "    temp = []\n",
        "    for i in x:\n",
        "      temp.append(lemm.lemmatize(i))\n",
        "    return temp\n",
        "  except:\n",
        "    return [\"could not perform op\"]\n",
        "\n",
        "data_sar[\"lemmatizer\"] = data_sar[\"clean_hd\"].apply(lemmat)"
      ],
      "execution_count": 0,
      "outputs": [
        {
          "output_type": "stream",
          "text": [
            "/usr/local/lib/python3.6/dist-packages/ipykernel_launcher.py:15: SettingWithCopyWarning: \n",
            "A value is trying to be set on a copy of a slice from a DataFrame.\n",
            "Try using .loc[row_indexer,col_indexer] = value instead\n",
            "\n",
            "See the caveats in the documentation: http://pandas.pydata.org/pandas-docs/stable/indexing.html#indexing-view-versus-copy\n",
            "  from ipykernel import kernelapp as app\n"
          ],
          "name": "stderr"
        }
      ]
    },
    {
      "cell_type": "code",
      "metadata": {
        "id": "_EB1oftPqO9K",
        "colab_type": "code",
        "outputId": "f4d54bec-af3c-4943-a54c-193a28f93b40",
        "colab": {
          "base_uri": "https://localhost:8080/",
          "height": 380
        }
      },
      "source": [
        "data_sar.head()"
      ],
      "execution_count": 0,
      "outputs": [
        {
          "output_type": "execute_result",
          "data": {
            "text/html": [
              "<div>\n",
              "<style scoped>\n",
              "    .dataframe tbody tr th:only-of-type {\n",
              "        vertical-align: middle;\n",
              "    }\n",
              "\n",
              "    .dataframe tbody tr th {\n",
              "        vertical-align: top;\n",
              "    }\n",
              "\n",
              "    .dataframe thead th {\n",
              "        text-align: right;\n",
              "    }\n",
              "</style>\n",
              "<table border=\"1\" class=\"dataframe\">\n",
              "  <thead>\n",
              "    <tr style=\"text-align: right;\">\n",
              "      <th></th>\n",
              "      <th>headline</th>\n",
              "      <th>is_sarcastic</th>\n",
              "      <th>len</th>\n",
              "      <th>clean_hd</th>\n",
              "      <th>tokens</th>\n",
              "      <th>pos</th>\n",
              "      <th>lemmatizer</th>\n",
              "    </tr>\n",
              "  </thead>\n",
              "  <tbody>\n",
              "    <tr>\n",
              "      <th>2</th>\n",
              "      <td>mom starting to fear son's web series closest thing she will have to grandchild</td>\n",
              "      <td>1</td>\n",
              "      <td>14</td>\n",
              "      <td>mom starting to fear sons web series closest thing she will have to grandchild</td>\n",
              "      <td>[mom, starting, to, fear, sons, web, series, closest, thing, she, will, have, to, grandchild]</td>\n",
              "      <td>[(mom, NN), (starting, VBG), (to, TO), (fear, VB), (sons, NNS), (web, JJ), (series, NN), (closest, JJS), (thing, NN), (she, PRP), (will, MD), (have, VB), (to, TO), (grandchild, VB)]</td>\n",
              "      <td>[mom, starting, to, fear, son, web, series, closest, thing, she, will, have, to, grandchild]</td>\n",
              "    </tr>\n",
              "    <tr>\n",
              "      <th>3</th>\n",
              "      <td>boehner just wants wife to listen, not come up with alternative debt-reduction ideas</td>\n",
              "      <td>1</td>\n",
              "      <td>13</td>\n",
              "      <td>boehner just wants wife to listen not come up with alternative debtreduction ideas</td>\n",
              "      <td>[boehner, just, wants, wife, to, listen, not, come, up, with, alternative, debtreduction, ideas]</td>\n",
              "      <td>[(boehner, NN), (just, RB), (wants, VBZ), (wife, NN), (to, TO), (listen, VB), (not, RB), (come, VBN), (up, RP), (with, IN), (alternative, JJ), (debtreduction, NN), (ideas, NNS)]</td>\n",
              "      <td>[boehner, just, want, wife, to, listen, not, come, up, with, alternative, debtreduction, idea]</td>\n",
              "    </tr>\n",
              "    <tr>\n",
              "      <th>8</th>\n",
              "      <td>top snake handler leaves sinking huckabee campaign</td>\n",
              "      <td>1</td>\n",
              "      <td>7</td>\n",
              "      <td>top snake handler leaves sinking huckabee campaign</td>\n",
              "      <td>[top, snake, handler, leaves, sinking, huckabee, campaign]</td>\n",
              "      <td>[(top, JJ), (snake, NN), (handler, NN), (leaves, VBZ), (sinking, VBG), (huckabee, NN), (campaign, NN)]</td>\n",
              "      <td>[top, snake, handler, leaf, sinking, huckabee, campaign]</td>\n",
              "    </tr>\n",
              "    <tr>\n",
              "      <th>15</th>\n",
              "      <td>nuclear bomb detonates during rehearsal for 'spider-man' musical</td>\n",
              "      <td>1</td>\n",
              "      <td>8</td>\n",
              "      <td>nuclear bomb detonates during rehearsal for spiderman musical</td>\n",
              "      <td>[nuclear, bomb, detonates, during, rehearsal, for, spiderman, musical]</td>\n",
              "      <td>[(nuclear, JJ), (bomb, NN), (detonates, NNS), (during, IN), (rehearsal, NN), (for, IN), (spiderman, JJ), (musical, JJ)]</td>\n",
              "      <td>[nuclear, bomb, detonates, during, rehearsal, for, spiderman, musical]</td>\n",
              "    </tr>\n",
              "    <tr>\n",
              "      <th>16</th>\n",
              "      <td>cosby lawyer asks why accusers didn't come forward to be smeared by legal team years ago</td>\n",
              "      <td>1</td>\n",
              "      <td>16</td>\n",
              "      <td>cosby lawyer asks why accusers didnt come forward to be smeared by legal team years ago</td>\n",
              "      <td>[cosby, lawyer, asks, why, accusers, didnt, come, forward, to, be, smeared, by, legal, team, years, ago]</td>\n",
              "      <td>[(cosby, NN), (lawyer, NN), (asks, VBZ), (why, WRB), (accusers, NNS), (didnt, VBP), (come, VB), (forward, NN), (to, TO), (be, VB), (smeared, VBN), (by, IN), (legal, JJ), (team, NN), (years, NNS), (ago, RB)]</td>\n",
              "      <td>[cosby, lawyer, asks, why, accuser, didnt, come, forward, to, be, smeared, by, legal, team, year, ago]</td>\n",
              "    </tr>\n",
              "  </tbody>\n",
              "</table>\n",
              "</div>"
            ],
            "text/plain": [
              "                                                                                    headline  \\\n",
              "2            mom starting to fear son's web series closest thing she will have to grandchild   \n",
              "3       boehner just wants wife to listen, not come up with alternative debt-reduction ideas   \n",
              "8                                         top snake handler leaves sinking huckabee campaign   \n",
              "15                          nuclear bomb detonates during rehearsal for 'spider-man' musical   \n",
              "16  cosby lawyer asks why accusers didn't come forward to be smeared by legal team years ago   \n",
              "\n",
              "    is_sarcastic  len  \\\n",
              "2              1   14   \n",
              "3              1   13   \n",
              "8              1    7   \n",
              "15             1    8   \n",
              "16             1   16   \n",
              "\n",
              "                                                                                   clean_hd  \\\n",
              "2            mom starting to fear sons web series closest thing she will have to grandchild   \n",
              "3        boehner just wants wife to listen not come up with alternative debtreduction ideas   \n",
              "8                                        top snake handler leaves sinking huckabee campaign   \n",
              "15                            nuclear bomb detonates during rehearsal for spiderman musical   \n",
              "16  cosby lawyer asks why accusers didnt come forward to be smeared by legal team years ago   \n",
              "\n",
              "                                                                                                      tokens  \\\n",
              "2              [mom, starting, to, fear, sons, web, series, closest, thing, she, will, have, to, grandchild]   \n",
              "3           [boehner, just, wants, wife, to, listen, not, come, up, with, alternative, debtreduction, ideas]   \n",
              "8                                                 [top, snake, handler, leaves, sinking, huckabee, campaign]   \n",
              "15                                    [nuclear, bomb, detonates, during, rehearsal, for, spiderman, musical]   \n",
              "16  [cosby, lawyer, asks, why, accusers, didnt, come, forward, to, be, smeared, by, legal, team, years, ago]   \n",
              "\n",
              "                                                                                                                                                                                                               pos  \\\n",
              "2                            [(mom, NN), (starting, VBG), (to, TO), (fear, VB), (sons, NNS), (web, JJ), (series, NN), (closest, JJS), (thing, NN), (she, PRP), (will, MD), (have, VB), (to, TO), (grandchild, VB)]   \n",
              "3                                [(boehner, NN), (just, RB), (wants, VBZ), (wife, NN), (to, TO), (listen, VB), (not, RB), (come, VBN), (up, RP), (with, IN), (alternative, JJ), (debtreduction, NN), (ideas, NNS)]   \n",
              "8                                                                                                           [(top, JJ), (snake, NN), (handler, NN), (leaves, VBZ), (sinking, VBG), (huckabee, NN), (campaign, NN)]   \n",
              "15                                                                                         [(nuclear, JJ), (bomb, NN), (detonates, NNS), (during, IN), (rehearsal, NN), (for, IN), (spiderman, JJ), (musical, JJ)]   \n",
              "16  [(cosby, NN), (lawyer, NN), (asks, VBZ), (why, WRB), (accusers, NNS), (didnt, VBP), (come, VB), (forward, NN), (to, TO), (be, VB), (smeared, VBN), (by, IN), (legal, JJ), (team, NN), (years, NNS), (ago, RB)]   \n",
              "\n",
              "                                                                                                lemmatizer  \n",
              "2             [mom, starting, to, fear, son, web, series, closest, thing, she, will, have, to, grandchild]  \n",
              "3           [boehner, just, want, wife, to, listen, not, come, up, with, alternative, debtreduction, idea]  \n",
              "8                                                 [top, snake, handler, leaf, sinking, huckabee, campaign]  \n",
              "15                                  [nuclear, bomb, detonates, during, rehearsal, for, spiderman, musical]  \n",
              "16  [cosby, lawyer, asks, why, accuser, didnt, come, forward, to, be, smeared, by, legal, team, year, ago]  "
            ]
          },
          "metadata": {
            "tags": []
          },
          "execution_count": 33
        }
      ]
    },
    {
      "cell_type": "markdown",
      "metadata": {
        "id": "5vmHB-xiJ46g",
        "colab_type": "text"
      },
      "source": [
        "### Step 5: Removal of Stop Words"
      ]
    },
    {
      "cell_type": "markdown",
      "metadata": {
        "id": "-PfM8ScdQOfq",
        "colab_type": "text"
      },
      "source": [
        "Stop words are the most common words in a language like “the”, “a”, “on”, “is”, “all”. These words do not carry important meaning and are usually removed from texts."
      ]
    },
    {
      "cell_type": "code",
      "metadata": {
        "id": "dYaZ2cAjQVxa",
        "colab_type": "code",
        "colab": {}
      },
      "source": [
        "data['headline_new'] = data['headline'].apply(lambda x: re.sub('[^a-zA-Z]','  ',x))"
      ],
      "execution_count": 0,
      "outputs": []
    },
    {
      "cell_type": "code",
      "metadata": {
        "id": "tsqKWHXWQaxS",
        "colab_type": "code",
        "colab": {}
      },
      "source": [
        "noise_list = nltk.corpus.stopwords.words('english')"
      ],
      "execution_count": 0,
      "outputs": []
    },
    {
      "cell_type": "code",
      "metadata": {
        "id": "LRinHl_KQgtT",
        "colab_type": "code",
        "colab": {}
      },
      "source": [
        "data['headline_new'] = data['headline_new'].apply(lambda x: [i for i in x.split() if i not in noise_list])"
      ],
      "execution_count": 0,
      "outputs": []
    },
    {
      "cell_type": "code",
      "metadata": {
        "id": "OxwP8mGrQh1y",
        "colab_type": "code",
        "colab": {}
      },
      "source": [
        "from nltk.stem.wordnet import WordNetLemmatizer\n",
        "lem = WordNetLemmatizer()"
      ],
      "execution_count": 0,
      "outputs": []
    },
    {
      "cell_type": "code",
      "metadata": {
        "id": "YCgOIEe3QkuB",
        "colab_type": "code",
        "colab": {}
      },
      "source": [
        "data['headline_new'] = data['headline_new'].apply(lambda x: [lem.lemmatize(i,'v') for i in x])"
      ],
      "execution_count": 0,
      "outputs": []
    },
    {
      "cell_type": "code",
      "metadata": {
        "id": "AAEBHOOeQnMn",
        "colab_type": "code",
        "colab": {}
      },
      "source": [
        "data['headline_new'] = data['headline_new'].apply(lambda x: [i.lower() for i in x])"
      ],
      "execution_count": 0,
      "outputs": []
    },
    {
      "cell_type": "code",
      "metadata": {
        "id": "MCFq94QHQrnZ",
        "colab_type": "code",
        "colab": {}
      },
      "source": [
        "#creating a frame with lemmatized and stopped sentences\n",
        "#lambda to make lemmatized headlines\n",
        "\n",
        "def join_lammatize(x):\n",
        "  return \" \".join(x)\n",
        "\n",
        "data[\"lemmat\"] = data[\"headline_new\"].apply(join_lammatize)\n",
        "\n",
        "import nltk\n",
        "from nltk.corpus import stopwords\n",
        "\n",
        "stops = set(stopwords.words('english'))\n",
        "\n",
        "#stopper lambda:\n",
        "\n",
        "def stopper_lambda(x):\n",
        " \n",
        "  words = x.split(\" \")\n",
        "  temp = []\n",
        "  for word in words:\n",
        "    if word not in stops:\n",
        "      temp.append(word)\n",
        "  return \" \".join(temp)\n",
        "\n",
        "\n",
        "data[\"stopped\"] = data[\"clean_hd\"].apply(stopper_lambda)"
      ],
      "execution_count": 0,
      "outputs": []
    },
    {
      "cell_type": "code",
      "metadata": {
        "id": "s74lQPxOXHhs",
        "colab_type": "code",
        "outputId": "1ec3583f-8aec-4b34-b0ab-2ee46b60942d",
        "colab": {
          "base_uri": "https://localhost:8080/",
          "height": 363
        }
      },
      "source": [
        "\n",
        "#explaination of columns containing training data: \n",
        "\n",
        "#headline : raw data\n",
        "#clean_hd : removed punctuations\n",
        "#lemmat: lemmatized sentences\n",
        "#stopped : Removed stopwords\n",
        "data.head()"
      ],
      "execution_count": 0,
      "outputs": [
        {
          "output_type": "execute_result",
          "data": {
            "text/html": [
              "<div>\n",
              "<style scoped>\n",
              "    .dataframe tbody tr th:only-of-type {\n",
              "        vertical-align: middle;\n",
              "    }\n",
              "\n",
              "    .dataframe tbody tr th {\n",
              "        vertical-align: top;\n",
              "    }\n",
              "\n",
              "    .dataframe thead th {\n",
              "        text-align: right;\n",
              "    }\n",
              "</style>\n",
              "<table border=\"1\" class=\"dataframe\">\n",
              "  <thead>\n",
              "    <tr style=\"text-align: right;\">\n",
              "      <th></th>\n",
              "      <th>headline</th>\n",
              "      <th>is_sarcastic</th>\n",
              "      <th>len</th>\n",
              "      <th>clean_hd</th>\n",
              "      <th>tokens</th>\n",
              "      <th>headline_new</th>\n",
              "      <th>lemmat</th>\n",
              "      <th>stopped</th>\n",
              "    </tr>\n",
              "  </thead>\n",
              "  <tbody>\n",
              "    <tr>\n",
              "      <th>0</th>\n",
              "      <td>former versace store clerk sues over secret 'black code' for minority shoppers</td>\n",
              "      <td>0</td>\n",
              "      <td>12</td>\n",
              "      <td>former versace store clerk sues over secret black code for minority shoppers</td>\n",
              "      <td>[former, versace, store, clerk, sues, over, secret, black, code, for, minority, shoppers]</td>\n",
              "      <td>[former, versace, store, clerk, sue, secret, black, code, minority, shoppers]</td>\n",
              "      <td>former versace store clerk sue secret black code minority shoppers</td>\n",
              "      <td>former versace store clerk sues secret black code minority shoppers</td>\n",
              "    </tr>\n",
              "    <tr>\n",
              "      <th>1</th>\n",
              "      <td>the 'roseanne' revival catches up to our thorny political mood, for better and worse</td>\n",
              "      <td>0</td>\n",
              "      <td>14</td>\n",
              "      <td>the roseanne revival catches up to our thorny political mood for better and worse</td>\n",
              "      <td>[the, roseanne, revival, catches, up, to, our, thorny, political, mood, for, better, and, worse]</td>\n",
              "      <td>[roseanne, revival, catch, thorny, political, mood, better, worse]</td>\n",
              "      <td>roseanne revival catch thorny political mood better worse</td>\n",
              "      <td>roseanne revival catches thorny political mood better worse</td>\n",
              "    </tr>\n",
              "    <tr>\n",
              "      <th>2</th>\n",
              "      <td>mom starting to fear son's web series closest thing she will have to grandchild</td>\n",
              "      <td>1</td>\n",
              "      <td>14</td>\n",
              "      <td>mom starting to fear sons web series closest thing she will have to grandchild</td>\n",
              "      <td>[mom, starting, to, fear, sons, web, series, closest, thing, she, will, have, to, grandchild]</td>\n",
              "      <td>[mom, start, fear, son, web, series, closest, thing, grandchild]</td>\n",
              "      <td>mom start fear son web series closest thing grandchild</td>\n",
              "      <td>mom starting fear sons web series closest thing grandchild</td>\n",
              "    </tr>\n",
              "    <tr>\n",
              "      <th>3</th>\n",
              "      <td>boehner just wants wife to listen, not come up with alternative debt-reduction ideas</td>\n",
              "      <td>1</td>\n",
              "      <td>13</td>\n",
              "      <td>boehner just wants wife to listen not come up with alternative debtreduction ideas</td>\n",
              "      <td>[boehner, just, wants, wife, to, listen, not, come, up, with, alternative, debtreduction, ideas]</td>\n",
              "      <td>[boehner, want, wife, listen, come, alternative, debt, reduction, ideas]</td>\n",
              "      <td>boehner want wife listen come alternative debt reduction ideas</td>\n",
              "      <td>boehner wants wife listen come alternative debtreduction ideas</td>\n",
              "    </tr>\n",
              "    <tr>\n",
              "      <th>4</th>\n",
              "      <td>j.k. rowling wishes snape happy birthday in the most magical way</td>\n",
              "      <td>0</td>\n",
              "      <td>11</td>\n",
              "      <td>jk rowling wishes snape happy birthday in the most magical way</td>\n",
              "      <td>[jk, rowling, wishes, snape, happy, birthday, in, the, most, magical, way]</td>\n",
              "      <td>[j, k, rowling, wish, snape, happy, birthday, magical, way]</td>\n",
              "      <td>j k rowling wish snape happy birthday magical way</td>\n",
              "      <td>jk rowling wishes snape happy birthday magical way</td>\n",
              "    </tr>\n",
              "  </tbody>\n",
              "</table>\n",
              "</div>"
            ],
            "text/plain": [
              "                                                                               headline  \\\n",
              "0        former versace store clerk sues over secret 'black code' for minority shoppers   \n",
              "1  the 'roseanne' revival catches up to our thorny political mood, for better and worse   \n",
              "2       mom starting to fear son's web series closest thing she will have to grandchild   \n",
              "3  boehner just wants wife to listen, not come up with alternative debt-reduction ideas   \n",
              "4                      j.k. rowling wishes snape happy birthday in the most magical way   \n",
              "\n",
              "   is_sarcastic  len  \\\n",
              "0             0   12   \n",
              "1             0   14   \n",
              "2             1   14   \n",
              "3             1   13   \n",
              "4             0   11   \n",
              "\n",
              "                                                                             clean_hd  \\\n",
              "0        former versace store clerk sues over secret black code for minority shoppers   \n",
              "1   the roseanne revival catches up to our thorny political mood for better and worse   \n",
              "2      mom starting to fear sons web series closest thing she will have to grandchild   \n",
              "3  boehner just wants wife to listen not come up with alternative debtreduction ideas   \n",
              "4                      jk rowling wishes snape happy birthday in the most magical way   \n",
              "\n",
              "                                                                                             tokens  \\\n",
              "0         [former, versace, store, clerk, sues, over, secret, black, code, for, minority, shoppers]   \n",
              "1  [the, roseanne, revival, catches, up, to, our, thorny, political, mood, for, better, and, worse]   \n",
              "2     [mom, starting, to, fear, sons, web, series, closest, thing, she, will, have, to, grandchild]   \n",
              "3  [boehner, just, wants, wife, to, listen, not, come, up, with, alternative, debtreduction, ideas]   \n",
              "4                        [jk, rowling, wishes, snape, happy, birthday, in, the, most, magical, way]   \n",
              "\n",
              "                                                                    headline_new  \\\n",
              "0  [former, versace, store, clerk, sue, secret, black, code, minority, shoppers]   \n",
              "1             [roseanne, revival, catch, thorny, political, mood, better, worse]   \n",
              "2               [mom, start, fear, son, web, series, closest, thing, grandchild]   \n",
              "3       [boehner, want, wife, listen, come, alternative, debt, reduction, ideas]   \n",
              "4                    [j, k, rowling, wish, snape, happy, birthday, magical, way]   \n",
              "\n",
              "                                                               lemmat  \\\n",
              "0  former versace store clerk sue secret black code minority shoppers   \n",
              "1           roseanne revival catch thorny political mood better worse   \n",
              "2              mom start fear son web series closest thing grandchild   \n",
              "3      boehner want wife listen come alternative debt reduction ideas   \n",
              "4                   j k rowling wish snape happy birthday magical way   \n",
              "\n",
              "                                                               stopped  \n",
              "0  former versace store clerk sues secret black code minority shoppers  \n",
              "1          roseanne revival catches thorny political mood better worse  \n",
              "2           mom starting fear sons web series closest thing grandchild  \n",
              "3       boehner wants wife listen come alternative debtreduction ideas  \n",
              "4                   jk rowling wishes snape happy birthday magical way  "
            ]
          },
          "metadata": {
            "tags": []
          },
          "execution_count": 41
        }
      ]
    },
    {
      "cell_type": "markdown",
      "metadata": {
        "id": "IdzZp20EK4C_",
        "colab_type": "text"
      },
      "source": [
        "### Step 6: Generating embeddings using GLOVE"
      ]
    },
    {
      "cell_type": "markdown",
      "metadata": {
        "id": "aBajahTgKyp4",
        "colab_type": "text"
      },
      "source": [
        "GloVe which stands for global vectors for word representation. It is an unsupervised learning algorithm developed by Stanford for generating word embeddings by aggregating global word-word co-occurrence matrix from a corpus.The training objective of GloVe is to learn word vectors such that their dot product equals the logarithm of the words’ probability of co-occurrence."
      ]
    },
    {
      "cell_type": "code",
      "metadata": {
        "id": "FT73JXG3-ZMs",
        "colab_type": "code",
        "outputId": "3cf3d5a9-a9ed-4052-b29d-c8ae2c4c358c",
        "colab": {
          "base_uri": "https://localhost:8080/",
          "height": 304
        }
      },
      "source": [
        "from IPython.display import Image\n",
        "Image (url = 'https://i2.wp.com/mlexplained.com/wp-content/uploads/2018/04/%E3%82%B9%E3%82%AF%E3%83%AA%E3%83%BC%E3%83%B3%E3%82%B7%E3%83%A7%E3%83%83%E3%83%88-2018-04-27-11.52.50.png?resize=598%2C283')"
      ],
      "execution_count": 0,
      "outputs": [
        {
          "output_type": "execute_result",
          "data": {
            "text/html": [
              "<img src=\"https://i2.wp.com/mlexplained.com/wp-content/uploads/2018/04/%E3%82%B9%E3%82%AF%E3%83%AA%E3%83%BC%E3%83%B3%E3%82%B7%E3%83%A7%E3%83%83%E3%83%88-2018-04-27-11.52.50.png?resize=598%2C283\"/>"
            ],
            "text/plain": [
              "<IPython.core.display.Image object>"
            ]
          },
          "metadata": {
            "tags": []
          },
          "execution_count": 42
        }
      ]
    },
    {
      "cell_type": "code",
      "metadata": {
        "id": "FlxQtOR83X33",
        "colab_type": "code",
        "outputId": "88da3983-1b1f-41d0-bbd2-fcb285e67618",
        "colab": {
          "base_uri": "https://localhost:8080/",
          "height": 34
        }
      },
      "source": [
        "#loading word vectors \n",
        "MAX_SEQUENCE_LENGTH = 200\n",
        "MAX_NUM_WORDS = 30000\n",
        "EMBEDDING_DIM = 200 \n",
        "VALIDATION_SPLIT = 0.2 \n",
        "TEST_SPLIT = 0.2 \n",
        "embeddings_index = {}\n",
        "with open(\"/content/drive/My Drive/glove.6B/glove.6B.200d.txt\") as f:\n",
        "  for line in f:\n",
        "    values = line.split()\n",
        "    word = values[0]\n",
        "    coefs = np.asarray(values[1:], dtype = 'float32')\n",
        "    embeddings_index[word] = coefs\n",
        "print(\" Found %s words of vectors\" % len(embeddings_index))\n"
      ],
      "execution_count": 0,
      "outputs": [
        {
          "output_type": "stream",
          "text": [
            " Found 400000 words of vectors\n"
          ],
          "name": "stdout"
        }
      ]
    },
    {
      "cell_type": "markdown",
      "metadata": {
        "id": "R2QSHsC4LEMs",
        "colab_type": "text"
      },
      "source": [
        "### Checking the shape of training data"
      ]
    },
    {
      "cell_type": "code",
      "metadata": {
        "id": "SByjz7cclxPN",
        "colab_type": "code",
        "outputId": "17c1c301-0435-4fac-d94f-60d4eda17563",
        "colab": {
          "base_uri": "https://localhost:8080/",
          "height": 67
        }
      },
      "source": [
        "Y = pd.get_dummies(data['is_sarcastic']).values\n",
        "print(Y.shape)\n",
        "\n",
        "X_train, Y_train, X_test, Y_test = train_test_split(data, Y, test_size = 0.2, random_state=42)\n",
        "print(X_train.shape, Y_train.shape)\n",
        "print(X_test.shape, Y_test.shape)"
      ],
      "execution_count": 0,
      "outputs": [
        {
          "output_type": "stream",
          "text": [
            "(26606, 2)\n",
            "(21284, 8) (5322, 8)\n",
            "(21284, 2) (5322, 2)\n"
          ],
          "name": "stdout"
        }
      ]
    },
    {
      "cell_type": "markdown",
      "metadata": {
        "id": "d79IKlm_LLum",
        "colab_type": "text"
      },
      "source": [
        "### Extracting unique tokens from the cleaned dataset and converting and padding sequences to make every sentence similar in length\n"
      ]
    },
    {
      "cell_type": "code",
      "metadata": {
        "id": "-FP4RsAQYQs_",
        "colab_type": "code",
        "colab": {}
      },
      "source": [
        "corpus_selection = \"headline\" # it can be stopped, headline,lemmat also according to what corpus you want to train on"
      ],
      "execution_count": 0,
      "outputs": []
    },
    {
      "cell_type": "code",
      "metadata": {
        "id": "BK6roBGHHFJO",
        "colab_type": "code",
        "outputId": "90a1a6df-28b8-4f7f-e79d-c6474056d097",
        "colab": {
          "base_uri": "https://localhost:8080/",
          "height": 34
        }
      },
      "source": [
        "#based on selection of dataset comment and uncomment\n",
        "\n",
        "# texts = data[\"lemmat\"]  # lemmatized data\n",
        "texts = data[corpus_selection] #simple data\n",
        "# texts = data[\"headline\"] #with punctuation\n",
        "#texts = data[\"stopped\"] #without stop words\n",
        "\n",
        "tokenizer = Tokenizer(num_words=MAX_NUM_WORDS)\n",
        "tokenizer.fit_on_texts(texts)\n",
        "sequences = tokenizer.texts_to_sequences(texts)\n",
        "word_index = tokenizer.word_index\n",
        "print('Found %s unique tokens.' % len(word_index))\n",
        "\n",
        "seq = pad_sequences(sequences, maxlen=MAX_SEQUENCE_LENGTH)\n",
        "\n"
      ],
      "execution_count": 0,
      "outputs": [
        {
          "output_type": "stream",
          "text": [
            "Found 29549 unique tokens.\n"
          ],
          "name": "stdout"
        }
      ]
    },
    {
      "cell_type": "code",
      "metadata": {
        "id": "6a6deCWV5hcQ",
        "colab_type": "code",
        "colab": {}
      },
      "source": [
        "clean_hd = 27539\n",
        "lemmat = 20057\n",
        "stopped = 27404\n",
        "headline = 29549\n",
        "\n",
        "plot_unique_dict = {\"without punctuation\":27539, \"Lemmatized\": 20057, \"Stopped\" : 27404 , \"Raw data\": 29549}"
      ],
      "execution_count": 0,
      "outputs": []
    },
    {
      "cell_type": "code",
      "metadata": {
        "id": "QiwrVgPT6GmX",
        "colab_type": "code",
        "outputId": "3d2e09e5-243e-4f7b-f39e-b662c19dc5c2",
        "colab": {
          "base_uri": "https://localhost:8080/",
          "height": 568
        }
      },
      "source": [
        "fig = plt.figure(figsize=(10,10))\n",
        "ax1 = fig.add_axes((0.1, 0.2, 0.8, 0.7))\n",
        "\n",
        "ax1.set_title(\"Unique words per corpus\")\n",
        "plt.bar(range(len(plot_unique_dict)), list(plot_unique_dict.values()), align='center')\n",
        "plt.xticksc), list(plot_unique_dict.keys()))\n",
        "plt.show()"
      ],
      "execution_count": 0,
      "outputs": [
        {
          "output_type": "display_data",
          "data": {
            "image/png": "[encoded data removed]",
            "text/plain": [
              "<Figure size 720x720 with 1 Axes>"
            ]
          },
          "metadata": {
            "tags": []
          }
        }
      ]
    },
    {
      "cell_type": "markdown",
      "metadata": {
        "id": "pXDm_7p7LUuN",
        "colab_type": "text"
      },
      "source": [
        "### Generating the sequence of the vectors"
      ]
    },
    {
      "cell_type": "code",
      "metadata": {
        "id": "aQO_3-64K5hQ",
        "colab_type": "code",
        "outputId": "1a064b6e-aa3e-446c-becc-2513184ebcc8",
        "colab": {
          "base_uri": "https://localhost:8080/",
          "height": 134
        }
      },
      "source": [
        "seq"
      ],
      "execution_count": 0,
      "outputs": [
        {
          "output_type": "execute_result",
          "data": {
            "text/plain": [
              "array([[    0,     0,     0, ...,     5,  2564,  8387],\n",
              "       [    0,     0,     0, ...,   262,     8,  1014],\n",
              "       [    0,     0,     0, ...,    45,     1, 10688],\n",
              "       ...,\n",
              "       [    0,     0,     0, ..., 10687,     8,    65],\n",
              "       [    0,     0,     0, ...,  1717,  3779,  3540],\n",
              "       [    0,     0,     0, ...,     3, 29549,   819]], dtype=int32)"
            ]
          },
          "metadata": {
            "tags": []
          },
          "execution_count": 49
        }
      ]
    },
    {
      "cell_type": "markdown",
      "metadata": {
        "id": "-YqFAQuQLamA",
        "colab_type": "text"
      },
      "source": [
        "## Model selection"
      ]
    },
    {
      "cell_type": "code",
      "metadata": {
        "id": "TnKGckAKHFQc",
        "colab_type": "code",
        "colab": {}
      },
      "source": [
        "from sklearn.model_selection  import train_test_split\n",
        "from keras.callbacks import LearningRateScheduler\n",
        "from keras.layers import Input,Dense,Dropout,GlobalMaxPooling1D\n",
        "import keras\n",
        "from keras.models import Model"
      ],
      "execution_count": 0,
      "outputs": []
    },
    {
      "cell_type": "markdown",
      "metadata": {
        "id": "zE6Rb-tJMTwJ",
        "colab_type": "text"
      },
      "source": [
        "### We create the embedding matrix which consists of unique tokens and vectors generated by Glove."
      ]
    },
    {
      "cell_type": "code",
      "metadata": {
        "id": "3Dew1mymrPS6",
        "colab_type": "code",
        "outputId": "4ab55a4a-64bb-44ab-ac0e-439ce90d5717",
        "colab": {
          "base_uri": "https://localhost:8080/",
          "height": 34
        }
      },
      "source": [
        "num_words = min(MAX_NUM_WORDS, len(word_index) + 1)\n",
        "embedding_matrix = np.zeros((num_words, EMBEDDING_DIM))\n",
        "for word, i in word_index.items():\n",
        "    if i >= MAX_NUM_WORDS:\n",
        "        continue\n",
        "    embedding_vector = embeddings_index.get(word)\n",
        "    if embedding_vector is not None:\n",
        "        # words not found in embedding index will be all-zeros.\n",
        "        embedding_matrix[i] = embedding_vector\n",
        "        \n",
        "embedding_layer = Embedding(num_words,\n",
        "                            EMBEDDING_DIM,\n",
        "                            weights=[embedding_matrix],\n",
        "                            input_length=MAX_SEQUENCE_LENGTH,\n",
        "                            trainable=False)\n",
        "        \n",
        "\n",
        "print(embedding_matrix.shape)"
      ],
      "execution_count": 0,
      "outputs": [
        {
          "output_type": "stream",
          "text": [
            "(29550, 200)\n"
          ],
          "name": "stdout"
        }
      ]
    },
    {
      "cell_type": "markdown",
      "metadata": {
        "id": "jilMxsMoMnw7",
        "colab_type": "text"
      },
      "source": [
        "### Training the model by spliting the data into test(20%) and train(80%)"
      ]
    },
    {
      "cell_type": "code",
      "metadata": {
        "id": "8idtPTF2Hk1u",
        "colab_type": "code",
        "colab": {}
      },
      "source": [
        "X_train, X_test, y_train, y_test = train_test_split(seq, data[\"is_sarcastic\"], test_size=0.20, random_state=42)"
      ],
      "execution_count": 0,
      "outputs": []
    },
    {
      "cell_type": "markdown",
      "metadata": {
        "id": "dVXf0OHtNFlk",
        "colab_type": "text"
      },
      "source": [
        "### Defining a  callback custom function to plot the training and validation accuracy and losses"
      ]
    },
    {
      "cell_type": "markdown",
      "metadata": {
        "id": "85Xojra9N5yA",
        "colab_type": "text"
      },
      "source": [
        "A callback is a set of functions to be applied at given stages of the training procedure. You can use callbacks to get a view on internal states and statistics of the model during training. You can pass a list of callbacks (as the keyword argument callbacks) to the .fit() method of the Sequential or  Model classes. The relevant methods of the callbacks will then be called at each stage of the training."
      ]
    },
    {
      "cell_type": "code",
      "metadata": {
        "id": "UXVX9NCJHHGa",
        "colab_type": "code",
        "colab": {}
      },
      "source": [
        "from keras.callbacks import Callback\n",
        "\n",
        "class PlotLearning(Callback):\n",
        "    def on_train_begin(self, logs={}):\n",
        "        self.i = 0\n",
        "        self.x = []\n",
        "        self.losses = []\n",
        "        self.val_losses = []\n",
        "        self.acc = []\n",
        "        self.val_acc = []\n",
        "        self.fig = plt.figure()\n",
        "        \n",
        "        self.logs = []\n",
        "\n",
        "    def on_epoch_end(self, epoch, logs={}):\n",
        "        \n",
        "        self.logs.append(logs)\n",
        "        self.x.append(self.i)\n",
        "        self.losses.append(logs.get('loss'))\n",
        "        self.val_losses.append(logs.get('val_loss'))\n",
        "        self.acc.append(logs.get('acc'))\n",
        "        self.val_acc.append(logs.get('val_acc'))\n",
        "        self.i += 1\n",
        "        f, (ax1, ax2) = plt.subplots(1, 2, sharex=True)\n",
        "        \n",
        "        ax1.set_yscale('log')\n",
        "        ax1.plot(self.x, self.losses, label=\"loss\")\n",
        "        ax1.plot(self.x, self.val_losses, label=\"val_loss\")\n",
        "        ax1.legend()\n",
        "        \n",
        "        ax2.plot(self.x, self.acc, label=\"accuracy\")\n",
        "        ax2.plot(self.x, self.val_acc, label=\"validation accuracy\")\n",
        "        ax2.legend()\n",
        "        \n",
        "        plt.show();\n",
        "        \n",
        "plot = PlotLearning"
      ],
      "execution_count": 0,
      "outputs": []
    },
    {
      "cell_type": "code",
      "metadata": {
        "id": "T23NA4hwMjxB",
        "colab_type": "code",
        "outputId": "c118419d-4b1a-4e61-94fe-cd73c4c7ae36",
        "colab": {
          "base_uri": "https://localhost:8080/",
          "height": 34
        }
      },
      "source": [
        "#adding a custom learning rate decay function\n",
        "def step_decay(epoch):\n",
        "    initial_lrate = 0.05\n",
        "    drop = 0.5\n",
        "    epochs_drop = 10.0\n",
        "    lrate = initial_lrate * math.pow(drop, math.floor((1+epoch)/epochs_drop))\n",
        "    return 0.0005**epoch\n",
        "\n",
        "# prepare embedding matrix\n",
        "num_words = min(MAX_NUM_WORDS, len(word_index) + 1)\n",
        "embedding_matrix = np.zeros((num_words, EMBEDDING_DIM))\n",
        "for word, i in word_index.items():\n",
        "    if i >= MAX_NUM_WORDS:\n",
        "        continue\n",
        "    embedding_vector = embeddings_index.get(word)\n",
        "    if embedding_vector is not None:\n",
        "        # words not found in embedding index will be all-zeros.\n",
        "        embedding_matrix[i] = embedding_vector\n",
        "\n",
        "\n",
        "lr = LearningRateScheduler(step_decay, verbose=1)\n",
        "\n",
        "\n",
        "embedding_layer = Embedding(num_words,\n",
        "                            EMBEDDING_DIM,\n",
        "                            weights=[embedding_matrix],\n",
        "                            input_length=MAX_SEQUENCE_LENGTH,\n",
        "                            trainable=False)\n",
        "\n",
        "print('Training model.')\n",
        "\n",
        "# train a 1D convnet with global maxpooling\n",
        "\n"
      ],
      "execution_count": 0,
      "outputs": [
        {
          "output_type": "stream",
          "text": [
            "Training model.\n"
          ],
          "name": "stdout"
        }
      ]
    },
    {
      "cell_type": "markdown",
      "metadata": {
        "id": "MnEc1y7UHzr-",
        "colab_type": "text"
      },
      "source": [
        "## Model 1 - LSTM/RNN"
      ]
    },
    {
      "cell_type": "markdown",
      "metadata": {
        "id": "GLSkArLgOP7M",
        "colab_type": "text"
      },
      "source": [
        "Recurrent Neural Networks with different architectures has one thing in common which is the embedding layer at the beginning and then various configurations of Long Short Term Memory (LSTM) and dense layers to crack down this classification problem. The idea behind RNNs is to make use of sequential information. RNNs are called recurrent because they perform the same task for every element of a sequence, with the output depended on previous computations.\n",
        "\n",
        "\n",
        "Now that we have prepared our training data we need to transform it so that it is suitable for use with Keras.\n",
        "\n",
        "First we must transform the list of input sequences into the form expected by an LSTM network."
      ]
    },
    {
      "cell_type": "code",
      "metadata": {
        "id": "vIX38GJlazQC",
        "colab_type": "code",
        "outputId": "56815511-def5-433e-f468-fab1dd0c45b5",
        "colab": {
          "base_uri": "https://localhost:8080/",
          "height": 809
        }
      },
      "source": [
        "\n",
        "from IPython.display import Image\n",
        "Image (url = \"https://upload.wikimedia.org/wikipedia/commons/thumb/3/3b/The_LSTM_cell.png/1200px-The_LSTM_cell.png\")"
      ],
      "execution_count": 0,
      "outputs": [
        {
          "output_type": "execute_result",
          "data": {
            "text/html": [
              "<img src=\"https://upload.wikimedia.org/wikipedia/commons/thumb/3/3b/The_LSTM_cell.png/1200px-The_LSTM_cell.png\"/>"
            ],
            "text/plain": [
              "<IPython.core.display.Image object>"
            ]
          },
          "metadata": {
            "tags": []
          },
          "execution_count": 55
        }
      ]
    },
    {
      "cell_type": "code",
      "metadata": {
        "id": "6kzPbrDQh8Oe",
        "colab_type": "code",
        "outputId": "3b5c4ec7-95a4-40c2-af28-abdba2f88f4b",
        "colab": {
          "base_uri": "https://localhost:8080/",
          "height": 321
        }
      },
      "source": [
        "Image ( url = 'https://acadgild.com/blog/wp-content/uploads/2018/02/Recurrent-Neural-Network.jpg')"
      ],
      "execution_count": 0,
      "outputs": [
        {
          "output_type": "execute_result",
          "data": {
            "text/html": [
              "<img src=\"https://acadgild.com/blog/wp-content/uploads/2018/02/Recurrent-Neural-Network.jpg\"/>"
            ],
            "text/plain": [
              "<IPython.core.display.Image object>"
            ]
          },
          "metadata": {
            "tags": []
          },
          "execution_count": 56
        }
      ]
    },
    {
      "cell_type": "markdown",
      "metadata": {
        "id": "s5QEt44ii5fz",
        "colab_type": "text"
      },
      "source": [
        "\n",
        "\n",
        "```\n",
        "# This is formatted as code\n",
        "```\n",
        "\n",
        "## RNN Computation\n",
        "So how do these things work?\n",
        "\n",
        "They accept an input vector x and give an output vector y. However, crucially this output vector’s contents are influenced not only by the input you just fed in, but also on the entire history of inputs you’ve fed in in the past. "
      ]
    },
    {
      "cell_type": "code",
      "metadata": {
        "id": "-oprVnihMj1Q",
        "colab_type": "code",
        "outputId": "05fb2db6-80d8-489d-875c-5a6142ca1cd5",
        "colab": {
          "base_uri": "https://localhost:8080/",
          "height": 138
        }
      },
      "source": [
        "sequence_input = Input(shape=(MAX_SEQUENCE_LENGTH,), dtype='int32')\n",
        "embedded_sequences = embedding_layer(sequence_input)\n",
        "\n",
        "embedded_sequences = keras.layers.SpatialDropout1D(0.3)(embedded_sequences)\n",
        "x = LSTM(200,return_sequences=False)(embedded_sequences)\n",
        "# x = Conv1D(200, 5, activation='relu')(x)\n",
        "# x = Dense(1024,activation = \"relu\")(x)\n",
        "# x = Dropout(0.2)(x)\n",
        "x = Dense(512,activation=\"relu\")(x)\n",
        "x = Dropout(0.2)(x)\n",
        "x = Dense(256,activation=\"relu\")(x)\n",
        "x = Dropout(0.2)(x)\n",
        "x = Dense(128,activation=\"relu\")(x)\n",
        "x = Dropout(0.2)(x)\n",
        "x = Dense(64,activation=\"relu\")(x)\n",
        "x = Dropout(0.2)(x)\n",
        "x = Dense(32,activation=\"relu\")(x)\n",
        "x = Dropout(0.2)(x)\n",
        "preds = Dense(1, activation='sigmoid')(x)\n",
        "\n",
        "model = Model(sequence_input, preds)\n",
        "model.compile(loss='binary_crossentropy',\n",
        "              optimizer='adam',\n",
        "              metrics=['acc'])\n",
        "\n",
        "\n"
      ],
      "execution_count": 0,
      "outputs": [
        {
          "output_type": "stream",
          "text": [
            "WARNING:tensorflow:From /usr/local/lib/python3.6/dist-packages/tensorflow/python/framework/op_def_library.py:263: colocate_with (from tensorflow.python.framework.ops) is deprecated and will be removed in a future version.\n",
            "Instructions for updating:\n",
            "Colocations handled automatically by placer.\n",
            "WARNING:tensorflow:From /usr/local/lib/python3.6/dist-packages/keras/backend/tensorflow_backend.py:3445: calling dropout (from tensorflow.python.ops.nn_ops) with keep_prob is deprecated and will be removed in a future version.\n",
            "Instructions for updating:\n",
            "Please use `rate` instead of `keep_prob`. Rate should be set to `rate = 1 - keep_prob`.\n"
          ],
          "name": "stdout"
        }
      ]
    },
    {
      "cell_type": "code",
      "metadata": {
        "id": "w3dzjRSOg-oU",
        "colab_type": "code",
        "outputId": "bbff878d-2e45-47cf-84e6-536f39231d63",
        "colab": {
          "base_uri": "https://localhost:8080/",
          "height": 638
        }
      },
      "source": [
        "model.summary()"
      ],
      "execution_count": 0,
      "outputs": [
        {
          "output_type": "stream",
          "text": [
            "_________________________________________________________________\n",
            "Layer (type)                 Output Shape              Param #   \n",
            "=================================================================\n",
            "input_1 (InputLayer)         (None, 200)               0         \n",
            "_________________________________________________________________\n",
            "embedding_2 (Embedding)      (None, 200, 200)          5910000   \n",
            "_________________________________________________________________\n",
            "spatial_dropout1d_1 (Spatial (None, 200, 200)          0         \n",
            "_________________________________________________________________\n",
            "lstm_1 (LSTM)                (None, 200)               320800    \n",
            "_________________________________________________________________\n",
            "dense_1 (Dense)              (None, 512)               102912    \n",
            "_________________________________________________________________\n",
            "dropout_1 (Dropout)          (None, 512)               0         \n",
            "_________________________________________________________________\n",
            "dense_2 (Dense)              (None, 256)               131328    \n",
            "_________________________________________________________________\n",
            "dropout_2 (Dropout)          (None, 256)               0         \n",
            "_________________________________________________________________\n",
            "dense_3 (Dense)              (None, 128)               32896     \n",
            "_________________________________________________________________\n",
            "dropout_3 (Dropout)          (None, 128)               0         \n",
            "_________________________________________________________________\n",
            "dense_4 (Dense)              (None, 64)                8256      \n",
            "_________________________________________________________________\n",
            "dropout_4 (Dropout)          (None, 64)                0         \n",
            "_________________________________________________________________\n",
            "dense_5 (Dense)              (None, 32)                2080      \n",
            "_________________________________________________________________\n",
            "dropout_5 (Dropout)          (None, 32)                0         \n",
            "_________________________________________________________________\n",
            "dense_6 (Dense)              (None, 1)                 33        \n",
            "=================================================================\n",
            "Total params: 6,508,305\n",
            "Trainable params: 598,305\n",
            "Non-trainable params: 5,910,000\n",
            "_________________________________________________________________\n"
          ],
          "name": "stdout"
        }
      ]
    },
    {
      "cell_type": "code",
      "metadata": {
        "id": "MSwoPexfMj4Y",
        "colab_type": "code",
        "outputId": "f8179d3b-9f5e-471a-e371-20ee700245a2",
        "colab": {
          "base_uri": "https://localhost:8080/",
          "height": 2977
        }
      },
      "source": [
        "history=model.fit(X_train, y_train,\n",
        "          batch_size=32,\n",
        "          epochs=10,\n",
        "            validation_data=(X_test, y_test),callbacks=[PlotLearning()])"
      ],
      "execution_count": 0,
      "outputs": [
        {
          "output_type": "stream",
          "text": [
            "WARNING:tensorflow:From /usr/local/lib/python3.6/dist-packages/tensorflow/python/ops/math_ops.py:3066: to_int32 (from tensorflow.python.ops.math_ops) is deprecated and will be removed in a future version.\n",
            "Instructions for updating:\n",
            "Use tf.cast instead.\n",
            "Train on 21284 samples, validate on 5322 samples\n",
            "Epoch 1/10\n",
            "21284/21284 [==============================] - 221s 10ms/step - loss: 0.5527 - acc: 0.7231 - val_loss: 0.4219 - val_acc: 0.8006\n"
          ],
          "name": "stdout"
        },
        {
          "output_type": "display_data",
          "data": {
            "text/plain": [
              "<Figure size 432x288 with 0 Axes>"
            ]
          },
          "metadata": {
            "tags": []
          }
        },
        {
          "output_type": "display_data",
          "data": {
            "image/png": "[encoded data removed]",
            "text/plain": [
              "<Figure size 432x288 with 2 Axes>"
            ]
          },
          "metadata": {
            "tags": []
          }
        },
        {
          "output_type": "stream",
          "text": [
            "Epoch 2/10\n",
            "21284/21284 [==============================] - 222s 10ms/step - loss: 0.4065 - acc: 0.8204 - val_loss: 0.3453 - val_acc: 0.8439\n"
          ],
          "name": "stdout"
        },
        {
          "output_type": "display_data",
          "data": {
            "image/png": "[encoded data removed]",
            "text/plain": [
              "<Figure size 432x288 with 2 Axes>"
            ]
          },
          "metadata": {
            "tags": []
          }
        },
        {
          "output_type": "stream",
          "text": [
            "Epoch 3/10\n",
            "21284/21284 [==============================] - 230s 11ms/step - loss: 0.4249 - acc: 0.8180 - val_loss: 0.4415 - val_acc: 0.7982\n"
          ],
          "name": "stdout"
        },
        {
          "output_type": "display_data",
          "data": {
            "image/png": "[encoded data removed]",
            "text/plain": [
              "<Figure size 432x288 with 2 Axes>"
            ]
          },
          "metadata": {
            "tags": []
          }
        },
        {
          "output_type": "stream",
          "text": [
            "Epoch 4/10\n",
            "21284/21284 [==============================] - 240s 11ms/step - loss: 0.3487 - acc: 0.8512 - val_loss: 0.3223 - val_acc: 0.8583\n"
          ],
          "name": "stdout"
        },
        {
          "output_type": "display_data",
          "data": {
            "image/png": "[encoded data removed]",
            "text/plain": [
              "<Figure size 432x288 with 2 Axes>"
            ]
          },
          "metadata": {
            "tags": []
          }
        },
        {
          "output_type": "stream",
          "text": [
            "Epoch 5/10\n",
            "21284/21284 [==============================] - 238s 11ms/step - loss: 0.3173 - acc: 0.8667 - val_loss: 0.3329 - val_acc: 0.8574\n"
          ],
          "name": "stdout"
        },
        {
          "output_type": "display_data",
          "data": {
            "image/png": "[encoded data removed]",
            "text/plain": [
              "<Figure size 432x288 with 2 Axes>"
            ]
          },
          "metadata": {
            "tags": []
          }
        },
        {
          "output_type": "stream",
          "text": [
            "Epoch 6/10\n",
            "21284/21284 [==============================] - 240s 11ms/step - loss: 0.2835 - acc: 0.8833 - val_loss: 0.3217 - val_acc: 0.8668\n"
          ],
          "name": "stdout"
        },
        {
          "output_type": "display_data",
          "data": {
            "image/png": "[encoded data removed]",
            "text/plain": [
              "<Figure size 432x288 with 2 Axes>"
            ]
          },
          "metadata": {
            "tags": []
          }
        },
        {
          "output_type": "stream",
          "text": [
            "Epoch 7/10\n",
            "21284/21284 [==============================] - 238s 11ms/step - loss: 0.2514 - acc: 0.8958 - val_loss: 0.3082 - val_acc: 0.8745\n"
          ],
          "name": "stdout"
        },
        {
          "output_type": "display_data",
          "data": {
            "image/png": "[encoded data removed]",
            "text/plain": [
              "<Figure size 432x288 with 2 Axes>"
            ]
          },
          "metadata": {
            "tags": []
          }
        },
        {
          "output_type": "stream",
          "text": [
            "Epoch 8/10\n",
            "21284/21284 [==============================] - 237s 11ms/step - loss: 0.2302 - acc: 0.9043 - val_loss: 0.3109 - val_acc: 0.8756\n"
          ],
          "name": "stdout"
        },
        {
          "output_type": "display_data",
          "data": {
            "image/png": "[encoded data removed]",
            "text/plain": [
              "<Figure size 432x288 with 2 Axes>"
            ]
          },
          "metadata": {
            "tags": []
          }
        },
        {
          "output_type": "stream",
          "text": [
            "Epoch 9/10\n",
            "21284/21284 [==============================] - 237s 11ms/step - loss: 0.1989 - acc: 0.9192 - val_loss: 0.3210 - val_acc: 0.8784\n"
          ],
          "name": "stdout"
        },
        {
          "output_type": "display_data",
          "data": {
            "image/png": "[encoded data removed]",
            "text/plain": [
              "<Figure size 432x288 with 2 Axes>"
            ]
          },
          "metadata": {
            "tags": []
          }
        },
        {
          "output_type": "stream",
          "text": [
            "Epoch 10/10\n",
            "21284/21284 [==============================] - 237s 11ms/step - loss: 0.1819 - acc: 0.9276 - val_loss: 0.3549 - val_acc: 0.8719\n"
          ],
          "name": "stdout"
        },
        {
          "output_type": "display_data",
          "data": {
            "image/png": "[encoded data removed]",
            "text/plain": [
              "<Figure size 432x288 with 2 Axes>"
            ]
          },
          "metadata": {
            "tags": []
          }
        }
      ]
    },
    {
      "cell_type": "code",
      "metadata": {
        "id": "GfGcsjm1eUYN",
        "colab_type": "code",
        "outputId": "7152bd50-3433-49fe-8592-e7e5031a001b",
        "colab": {
          "base_uri": "https://localhost:8080/",
          "height": 34
        }
      },
      "source": [
        "rnn_score = model.evaluate(X_test,y_test)"
      ],
      "execution_count": 0,
      "outputs": [
        {
          "output_type": "stream",
          "text": [
            "5322/5322 [==============================] - 21s 4ms/step\n"
          ],
          "name": "stdout"
        }
      ]
    },
    {
      "cell_type": "code",
      "metadata": {
        "id": "K7F5tjRKej23",
        "colab_type": "code",
        "outputId": "85672cd5-eedc-4ce2-c2d3-c694e85fd5f9",
        "colab": {
          "base_uri": "https://localhost:8080/",
          "height": 34
        }
      },
      "source": [
        "rnn_score"
      ],
      "execution_count": 0,
      "outputs": [
        {
          "output_type": "execute_result",
          "data": {
            "text/plain": [
              "[0.35486180441400156, 0.8718526869821889]"
            ]
          },
          "metadata": {
            "tags": []
          },
          "execution_count": 61
        }
      ]
    },
    {
      "cell_type": "markdown",
      "metadata": {
        "id": "kuGuvwoyYsZZ",
        "colab_type": "text"
      },
      "source": [
        "## Model 2 : Naive Bayes Classifier"
      ]
    },
    {
      "cell_type": "markdown",
      "metadata": {
        "id": "18WMbp-MpisU",
        "colab_type": "text"
      },
      "source": [
        "Naive Bayes classifiers are linear classifiers that are known for being simple yet very efficient. The probabilistic model of naive Bayes classifiers is based on Bayes’ theorem, and the adjective naive comes from the assumption that the features in a dataset are mutually independent. In practice, the independence assumption is often violated, but naive Bayes classifiers still tend to perform very well under this unrealistic assumption. "
      ]
    },
    {
      "cell_type": "code",
      "metadata": {
        "id": "e89bhXzoaAWt",
        "colab_type": "code",
        "outputId": "dbde1311-c36c-4063-a837-c2e64fd3c604",
        "colab": {
          "base_uri": "https://localhost:8080/",
          "height": 318
        }
      },
      "source": [
        "\n",
        "from IPython.display import Image\n",
        "Image (url='https://provalisresearch.com/uploads/linear_vs_nonlinear_problems.png')"
      ],
      "execution_count": 0,
      "outputs": [
        {
          "output_type": "execute_result",
          "data": {
            "text/html": [
              "<img src=\"https://provalisresearch.com/uploads/linear_vs_nonlinear_problems.png\"/>"
            ],
            "text/plain": [
              "<IPython.core.display.Image object>"
            ]
          },
          "metadata": {
            "tags": []
          },
          "execution_count": 62
        }
      ]
    },
    {
      "cell_type": "code",
      "metadata": {
        "id": "AiOTMzs0ph6J",
        "colab_type": "code",
        "colab": {}
      },
      "source": [
        "from sklearn.feature_extraction.text import CountVectorizer\n",
        "from sklearn.naive_bayes import MultinomialNB\n",
        "from sklearn.metrics import roc_auc_score\n",
        "from sklearn.linear_model import LogisticRegression\n",
        "from sklearn.ensemble import RandomForestClassifier\n",
        "from sklearn.svm import LinearSVC\n",
        "from sklearn.model_selection import cross_val_score\n",
        "from sklearn import metrics\n"
      ],
      "execution_count": 0,
      "outputs": []
    },
    {
      "cell_type": "code",
      "metadata": {
        "id": "QILPgZ1qKJs_",
        "colab_type": "code",
        "outputId": "1a713cf5-d05e-437e-980a-40acf5325aad",
        "colab": {
          "base_uri": "https://localhost:8080/",
          "height": 185
        }
      },
      "source": [
        "#Split data into train and test sets\n",
        "X_train, X_test, y_train, y_test = train_test_split(data[corpus_selection],data['is_sarcastic'],random_state=33)\n",
        "\n",
        "#Train and evaluate the model\n",
        "vect = CountVectorizer().fit(X_train)\n",
        "#vectorize sentences\n",
        "X_train_vectorized = vect.transform(X_train)\n",
        "\n",
        "#create and fit a multinomial naive bayes\n",
        "clfrNB = MultinomialNB(alpha = 0.5)\n",
        "\n",
        "\n",
        "clfrNB.fit(X_train_vectorized, y_train)\n",
        "\n",
        "\n",
        "preds = clfrNB.predict(vect.transform(X_test))\n",
        "\n",
        "naive_score = clfrNB.score(vect.transform(X_test),y_test)\n",
        "\n",
        "score = roc_auc_score(y_test, preds)\n",
        "print(metrics.classification_report(y_test,preds))\n",
        "print(score)"
      ],
      "execution_count": 0,
      "outputs": [
        {
          "output_type": "stream",
          "text": [
            "              precision    recall  f1-score   support\n",
            "\n",
            "           0       0.85      0.88      0.86      3778\n",
            "           1       0.83      0.80      0.82      2874\n",
            "\n",
            "   micro avg       0.84      0.84      0.84      6652\n",
            "   macro avg       0.84      0.84      0.84      6652\n",
            "weighted avg       0.84      0.84      0.84      6652\n",
            "\n",
            "0.8383265309580832\n"
          ],
          "name": "stdout"
        }
      ]
    },
    {
      "cell_type": "markdown",
      "metadata": {
        "id": "eafyW_eehXGd",
        "colab_type": "text"
      },
      "source": [
        "Naive Bayes Classifier gives the accuracy of 84%"
      ]
    },
    {
      "cell_type": "markdown",
      "metadata": {
        "id": "UbQqJRGia6bN",
        "colab_type": "text"
      },
      "source": [
        "## Model 3: Random Forest Classifier"
      ]
    },
    {
      "cell_type": "markdown",
      "metadata": {
        "id": "5DW2gHm3b0zh",
        "colab_type": "text"
      },
      "source": [
        "Decision trees are extremely intuitive ways to classify or label objects: you simply ask a series of questions designed to zero-in on the classification. The multiple trees allow for a probabilistic classification: a majority vote among estimators gives an estimate of the probability."
      ]
    },
    {
      "cell_type": "code",
      "metadata": {
        "id": "4PH01lRBmzyt",
        "colab_type": "code",
        "colab": {}
      },
      "source": [
        "rfc =  RandomForestClassifier(n_estimators=1000, max_depth=5, random_state=0)\n",
        "rfc.fit(X_train_vectorized,y_train)\n",
        "preds = rfc.predict(vect.transform(X_test))"
      ],
      "execution_count": 0,
      "outputs": []
    },
    {
      "cell_type": "code",
      "metadata": {
        "id": "dLbYi6ykhJTM",
        "colab_type": "code",
        "outputId": "fbe5d2ab-45e2-485d-9842-5c3b51900b14",
        "colab": {
          "base_uri": "https://localhost:8080/",
          "height": 461
        }
      },
      "source": [
        "Image (url = 'https://www.researchgate.net/profile/Erika_Amstalden_van_Hove/publication/228540194/figure/fig1/AS:301839783350274@1448975620988/The-Random-Forest-classifier-is-an-ensemble-of-decision-trees-where-the-single-trees-are.png')"
      ],
      "execution_count": 0,
      "outputs": [
        {
          "output_type": "execute_result",
          "data": {
            "text/html": [
              "<img src=\"https://www.researchgate.net/profile/Erika_Amstalden_van_Hove/publication/228540194/figure/fig1/AS:301839783350274@1448975620988/The-Random-Forest-classifier-is-an-ensemble-of-decision-trees-where-the-single-trees-are.png\"/>"
            ],
            "text/plain": [
              "<IPython.core.display.Image object>"
            ]
          },
          "metadata": {
            "tags": []
          },
          "execution_count": 66
        }
      ]
    },
    {
      "cell_type": "code",
      "metadata": {
        "id": "-GNAL8sUm0PS",
        "colab_type": "code",
        "outputId": "f1fef2ef-1f79-45a1-eeba-fb39cb686078",
        "colab": {
          "base_uri": "https://localhost:8080/",
          "height": 289
        }
      },
      "source": [
        "print(metrics.classification_report(y_test,preds))\n",
        "random_fo_score = rfc.score(vect.transform(X_test),y_test)"
      ],
      "execution_count": 0,
      "outputs": [
        {
          "output_type": "stream",
          "text": [
            "/usr/local/lib/python3.6/dist-packages/sklearn/metrics/classification.py:1143: UndefinedMetricWarning: Precision and F-score are ill-defined and being set to 0.0 in labels with no predicted samples.\n",
            "  'precision', 'predicted', average, warn_for)\n",
            "/usr/local/lib/python3.6/dist-packages/sklearn/metrics/classification.py:1143: UndefinedMetricWarning: Precision and F-score are ill-defined and being set to 0.0 in labels with no predicted samples.\n",
            "  'precision', 'predicted', average, warn_for)\n",
            "/usr/local/lib/python3.6/dist-packages/sklearn/metrics/classification.py:1143: UndefinedMetricWarning: Precision and F-score are ill-defined and being set to 0.0 in labels with no predicted samples.\n",
            "  'precision', 'predicted', average, warn_for)\n"
          ],
          "name": "stderr"
        },
        {
          "output_type": "stream",
          "text": [
            "              precision    recall  f1-score   support\n",
            "\n",
            "           0       0.57      1.00      0.72      3778\n",
            "           1       0.00      0.00      0.00      2874\n",
            "\n",
            "   micro avg       0.57      0.57      0.57      6652\n",
            "   macro avg       0.28      0.50      0.36      6652\n",
            "weighted avg       0.32      0.57      0.41      6652\n",
            "\n"
          ],
          "name": "stdout"
        }
      ]
    },
    {
      "cell_type": "markdown",
      "metadata": {
        "id": "eFXoPKaxgr93",
        "colab_type": "text"
      },
      "source": [
        "With Random Forest Classifier we notice from the report that it classifies the labels with accuracy of only 56% which is very less as compared to previous model."
      ]
    },
    {
      "cell_type": "markdown",
      "metadata": {
        "id": "F47m38PgcUGG",
        "colab_type": "text"
      },
      "source": [
        "## Model 4: Linear Support Vector Classifier"
      ]
    },
    {
      "cell_type": "markdown",
      "metadata": {
        "id": "P1spzAYqccuO",
        "colab_type": "text"
      },
      "source": [
        "The task requires a text dataset that has sentences to be classified and labels for that sentences. The amount of data for this task can only be estimated once the model building phase starts. It has more flexibility in the choice of penalties and loss functions and should scale better to large numbers of samples. C is the penalty parameter and it is set to 1 because the accuracy somehow increases, and the kernel is set to linear, the other kernels (poly and rbf) are either too slow or innacurate. "
      ]
    },
    {
      "cell_type": "code",
      "metadata": {
        "id": "xcHiCq7beHOB",
        "colab_type": "code",
        "outputId": "3d534a2b-f456-45f7-fa52-f383130b1dc7",
        "colab": {
          "base_uri": "https://localhost:8080/",
          "height": 506
        }
      },
      "source": [
        "Image (url= 'https://www.researchgate.net/publication/315316855/figure/fig1/AS:473082948263936@1489803172664/A-linear-support-vector-machine.png')"
      ],
      "execution_count": 0,
      "outputs": [
        {
          "output_type": "execute_result",
          "data": {
            "text/html": [
              "<img src=\"https://www.researchgate.net/publication/315316855/figure/fig1/AS:473082948263936@1489803172664/A-linear-support-vector-machine.png\"/>"
            ],
            "text/plain": [
              "<IPython.core.display.Image object>"
            ]
          },
          "metadata": {
            "tags": []
          },
          "execution_count": 68
        }
      ]
    },
    {
      "cell_type": "code",
      "metadata": {
        "id": "NKoygx0vnrCw",
        "colab_type": "code",
        "colab": {}
      },
      "source": [
        "svc_l1 = LinearSVC(dual= False)\n",
        "svc_l2 = LinearSVC(penalty=\"l1\",dual=False)"
      ],
      "execution_count": 0,
      "outputs": []
    },
    {
      "cell_type": "code",
      "metadata": {
        "id": "W6TUJOxEntpR",
        "colab_type": "code",
        "outputId": "e3f5a8fa-0de1-45fd-be7d-072b9f4ba1b1",
        "colab": {
          "base_uri": "https://localhost:8080/",
          "height": 84
        }
      },
      "source": [
        "svc_l1.fit(X_train_vectorized,y_train)"
      ],
      "execution_count": 0,
      "outputs": [
        {
          "output_type": "execute_result",
          "data": {
            "text/plain": [
              "LinearSVC(C=1.0, class_weight=None, dual=False, fit_intercept=True,\n",
              "     intercept_scaling=1, loss='squared_hinge', max_iter=1000,\n",
              "     multi_class='ovr', penalty='l2', random_state=None, tol=0.0001,\n",
              "     verbose=0)"
            ]
          },
          "metadata": {
            "tags": []
          },
          "execution_count": 70
        }
      ]
    },
    {
      "cell_type": "code",
      "metadata": {
        "id": "L760mQD6oMSt",
        "colab_type": "code",
        "outputId": "80a5cbb3-da62-474d-ac2e-38800d4a981c",
        "colab": {
          "base_uri": "https://localhost:8080/",
          "height": 88
        }
      },
      "source": [
        "svc_l2.fit(X_train_vectorized,y_train)"
      ],
      "execution_count": 0,
      "outputs": [
        {
          "output_type": "execute_result",
          "data": {
            "text/plain": [
              "LinearSVC(C=1.0, class_weight=None, dual=False, fit_intercept=True,\n",
              "     intercept_scaling=1, loss='squared_hinge', max_iter=1000,\n",
              "     multi_class='ovr', penalty='l1', random_state=None, tol=0.0001,\n",
              "     verbose=0)"
            ]
          },
          "metadata": {
            "tags": []
          },
          "execution_count": 276
        }
      ]
    },
    {
      "cell_type": "code",
      "metadata": {
        "id": "2Kugwk4GoQTS",
        "colab_type": "code",
        "colab": {}
      },
      "source": [
        "svc_l1_score = svc_l1.score(vect.transform(X_test),y_test)"
      ],
      "execution_count": 0,
      "outputs": []
    },
    {
      "cell_type": "code",
      "metadata": {
        "id": "tsLaHpx6oU_7",
        "colab_type": "code",
        "colab": {}
      },
      "source": [
        "svc_l2_score = svc_l2.score(vect.transform(X_test),y_test)"
      ],
      "execution_count": 0,
      "outputs": []
    },
    {
      "cell_type": "markdown",
      "metadata": {
        "id": "rhzNwtxjf866",
        "colab_type": "text"
      },
      "source": [
        "With linear support vector classifier we get accuracy score of 82% "
      ]
    },
    {
      "cell_type": "markdown",
      "metadata": {
        "id": "uCKYU1wYeRCa",
        "colab_type": "text"
      },
      "source": [
        "## Model 5: Logistic Regression"
      ]
    },
    {
      "cell_type": "code",
      "metadata": {
        "id": "N_ZZRHTUqqo6",
        "colab_type": "code",
        "colab": {}
      },
      "source": [
        "lgr = LogisticRegression(random_state=0)"
      ],
      "execution_count": 0,
      "outputs": []
    },
    {
      "cell_type": "code",
      "metadata": {
        "id": "g0JlfPdgquKQ",
        "colab_type": "code",
        "outputId": "090be81d-f5c9-400f-b041-dd82e0dc144b",
        "colab": {
          "base_uri": "https://localhost:8080/",
          "height": 52
        }
      },
      "source": [
        "lgr.fit(X_train_vectorized,y_train)\n",
        "y_pred = lgr.predict(vect.transform(X_test))\n",
        "\n",
        "\n",
        "logistic_score = lgr.score(vect.transform(X_test),y_test)"
      ],
      "execution_count": 0,
      "outputs": [
        {
          "output_type": "stream",
          "text": [
            "/usr/local/lib/python3.6/dist-packages/sklearn/linear_model/logistic.py:433: FutureWarning: Default solver will be changed to 'lbfgs' in 0.22. Specify a solver to silence this warning.\n",
            "  FutureWarning)\n"
          ],
          "name": "stderr"
        }
      ]
    },
    {
      "cell_type": "code",
      "metadata": {
        "id": "tCYg6zbjqw12",
        "colab_type": "code",
        "outputId": "8a12f226-b187-4416-98d9-b8b66abdd592",
        "colab": {
          "base_uri": "https://localhost:8080/",
          "height": 177
        }
      },
      "source": [
        "print(metrics.classification_report(y_test, y_pred))"
      ],
      "execution_count": 0,
      "outputs": [
        {
          "output_type": "stream",
          "text": [
            "              precision    recall  f1-score   support\n",
            "\n",
            "           0       0.86      0.87      0.86      3778\n",
            "           1       0.82      0.81      0.82      2874\n",
            "\n",
            "   micro avg       0.84      0.84      0.84      6652\n",
            "   macro avg       0.84      0.84      0.84      6652\n",
            "weighted avg       0.84      0.84      0.84      6652\n",
            "\n"
          ],
          "name": "stdout"
        }
      ]
    },
    {
      "cell_type": "markdown",
      "metadata": {
        "id": "weFiKNjNftpN",
        "colab_type": "text"
      },
      "source": [
        "With logistic regression we are able to classify the labels with 85% accuracy"
      ]
    },
    {
      "cell_type": "markdown",
      "metadata": {
        "id": "kAZsDtdAk9yU",
        "colab_type": "text"
      },
      "source": [
        "## Evaluation of models"
      ]
    },
    {
      "cell_type": "code",
      "metadata": {
        "id": "cOlKiSLnq1Rq",
        "colab_type": "code",
        "colab": {}
      },
      "source": [
        "result_dict = {\"Logistic regression\":logistic_score,\"Linear SVC with L1\":svc_l1_score,\"Linear SVC with L2\":svc_l2_score,\"Multinomial NB\":naive_score,\n",
        "                  \"Random Forest\":random_fo_score,\"RNN\":rnn_score[1]}"
      ],
      "execution_count": 0,
      "outputs": []
    },
    {
      "cell_type": "code",
      "metadata": {
        "id": "mFDzPgvU0KGS",
        "colab_type": "code",
        "outputId": "b7b65fcf-52ea-4504-a257-587950cc847e",
        "colab": {
          "base_uri": "https://localhost:8080/",
          "height": 595
        }
      },
      "source": [
        "fig = plt.figure(figsize=(15,10))\n",
        "\n",
        "plt.bar(range(len(result_dict)), list(result_dict.values()), align='center')\n",
        "plt.xticks(range(len(result_dict)), list(result_dict.keys()))\n",
        "plt.show()"
      ],
      "execution_count": 0,
      "outputs": [
        {
          "output_type": "display_data",
          "data": {
            "image/png": "[encoded data removed]",
            "text/plain": [
              "<Figure size 1080x720 with 1 Axes>"
            ]
          },
          "metadata": {
            "tags": []
          }
        }
      ]
    },
    {
      "cell_type": "markdown",
      "metadata": {
        "id": "l7GRcVu78_6B",
        "colab_type": "text"
      },
      "source": [
        "## Conclusion\n",
        "\n",
        "In this project we performed classification on labels to be sarcastic or non-sarcastic using various models. After cleaning and exploration of data we could analyze what pre-processing needs to be done on it. We noticed that the dataset did not contain much of noisy data. We performed various steps in text normalization like removal of punctuations, stop words, digits, tokenization, stemming and lemmetization using parts of speech. We fitted the pre-processed data into different models and trained them using deep learning networks. From evaluation of models we conclude that LSTM/RNN model gave us better accuracy of 86% to correctly classify the labels into sarcastic and non-sarcastic sentences. The poorer results obtained using random forest classifier were not completely expected. We expect to see that some sort of contextual clues to play a big role in sarcastic nature of a sentence. The other classifier's performances were average, this could possibly be due to the small size of the dataset which in turn leads to the model overfitting the data."
      ]
    },
    {
      "cell_type": "markdown",
      "metadata": {
        "id": "n0k9tNN1NNJW",
        "colab_type": "text"
      },
      "source": [
        "## Scope\n",
        "\n",
        "For this project we have been working for a long time right from topic selection to doing research about it. We had to do a lot of reading as it's our first project that is dealing with text classification. We read a lot of published papers and blogs for deep learning neural networks. According to our study, sarcasm detection majorly deals with sentiment analysis based on contextual words. Text classification here is challenging due to lack of intonation and facial expressions. We therefore decide to deal with this problem using various methods like LSTM/RNN, SVM, Naive Bayes Classifier and Random Forest Classifier.  We trained various models and by analyzing the strengths and weaknesses of the baseline model, we strived to develop one that will achieve better results. Since we used scikit learn, keras and tensorflow we had to read documentations on it and understand the hyperparameter tuning needed for the best model and accuracy. We divided our work equally from research work till the implementation of the project. For two people this project was appropriate and efficient enough in the given time frame. Finding of dataset, cleaning it, exploration of data , pre-processing of data , logistic regression was done by Saloni and the next half of the project which includes other models was done by Jinal. The accuracy of this model deals with how well the data is pre-processed and how well we choose the parameters for training.  Our goal was to get a decent accuracy score and make our model capable to classify the sarcastic and non-sarcastic labels. We tried our best to do as much research as possible and implement our knowledge at its best. \n",
        "\n",
        "The papers we referred for our research work:\n",
        "\n",
        "[1] https://nlp.stanford.edu/seminar/details/pbhattacharyya.pdf\n",
        "\n",
        "[2] https://www.aclweb.org/anthology/C18-1156\n",
        "\n",
        "[3] https://aclweb.org/anthology/C16-1231"
      ]
    },
    {
      "cell_type": "markdown",
      "metadata": {
        "id": "_78e1nO0kw_l",
        "colab_type": "text"
      },
      "source": [
        "## Future Work\n",
        "\n",
        "If given more time we would like to train our embeddings based on strictly news corpus as well as train our own embeddings on given corpus to compare and contrast our models. We would also like to experiment with Gated Recurrent Unit based neural networks. We would also like to see how convolutional layers would behave in the scope of this network. Also train the model more by increasing the epochs & decreasing the batch size. We would also like to work on with more sarcastic sentences from Reddit and other sources and analyze which model can perform better for classification."
      ]
    },
    {
      "cell_type": "markdown",
      "metadata": {
        "id": "_CFpxEKPtgkH",
        "colab_type": "text"
      },
      "source": [
        "## Contribution\n",
        "\n",
        "OWN: 80%\n",
        "\n",
        "SOURCE : 20%"
      ]
    },
    {
      "cell_type": "markdown",
      "metadata": {
        "id": "_ODd9S9Skh3C",
        "colab_type": "text"
      },
      "source": [
        "## License\n",
        "\n",
        "\n",
        "Copyright 2019 SALONI SOMAIYA , JINAL SAPARIYA\n",
        "\n",
        "Permission is hereby granted, free of charge, to any person obtaining a copy of this software and associated documentation files (the \"Software\"), to deal in the Software without restriction, including without limitation the rights to use, copy, modify, merge, publish, distribute, sublicense, and/or sell copies of the Software, and to permit persons to whom the Software is furnished to do so, subject to the following conditions:\n",
        "\n",
        "The above copyright notice and this permission notice shall be included in all copies or substantial portions of the Software.\n",
        "\n",
        "THE SOFTWARE IS PROVIDED \"AS IS\", WITHOUT WARRANTY OF ANY KIND, EXPRESS OR IMPLIED, INCLUDING BUT NOT LIMITED TO THE WARRANTIES OF MERCHANTABILITY, FITNESS FOR A PARTICULAR PURPOSE AND NONINFRINGEMENT. IN NO EVENT SHALL THE AUTHORS OR COPYRIGHT HOLDERS BE LIABLE FOR ANY CLAIM, DAMAGES OR OTHER LIABILITY, WHETHER IN AN ACTION OF CONTRACT, TORT OR OTHERWISE, ARISING FROM, OUT OF OR IN CONNECTION WITH THE SOFTWARE OR THE USE OR OTHER DEALINGS IN THE SOFTWARE."
      ]
    },
    {
      "cell_type": "markdown",
      "metadata": {
        "id": "yk6n7TVxkYzv",
        "colab_type": "text"
      },
      "source": [
        "## References\n",
        "\n",
        "\n",
        "[1] https://www.kaggle.com/\n",
        "\n",
        "[2] https://towardsdatascience.com/recurrent-neural-networks-the-powerhouse-of-language-modeling-d45acc50444f/\n",
        "\n",
        "[3] https://machinelearningmastery.com/what-are-word-embeddings/\n",
        "\n",
        "[4] http://colah.github.io/posts/2015-08-Understanding-LSTMs/\n",
        "\n",
        "[5] https://www.datacamp.com/community/tutorials/deep-learning-python\n",
        " \n",
        "[6] https://github.com/tensorflow/models\n",
        "\n",
        "[7] https://www.analyticsvidhya.com/blog/2017/09/understaing-support-vector-machine-example-code/\n",
        "\n"
      ]
    },
    {
      "cell_type": "code",
      "metadata": {
        "id": "trTx8I0Yka4A",
        "colab_type": "code",
        "outputId": "80f144d6-b49c-4eb8-c878-fd5971782a83",
        "colab": {
          "base_uri": "https://localhost:8080/",
          "height": 474
        }
      },
      "source": [
        "Image (url = 'https://cdn-images-1.medium.com/max/1200/1*NDfK-DV3cvCwz1Y5IxQQxg.png')"
      ],
      "execution_count": 0,
      "outputs": [
        {
          "output_type": "execute_result",
          "data": {
            "text/html": [
              "<img src=\"https://cdn-images-1.medium.com/max/1200/1*NDfK-DV3cvCwz1Y5IxQQxg.png\"/>"
            ],
            "text/plain": [
              "<IPython.core.display.Image object>"
            ]
          },
          "metadata": {
            "tags": []
          },
          "execution_count": 284
        }
      ]
    },
    {
      "cell_type": "code",
      "metadata": {
        "id": "1O-R17R1lOUJ",
        "colab_type": "code",
        "colab": {}
      },
      "source": [
        ""
      ],
      "execution_count": 0,
      "outputs": []
    }
  ]
}